{
 "cells": [
  {
   "cell_type": "markdown",
   "metadata": {},
   "source": [
    "# Answer 1"
   ]
  },
  {
   "cell_type": "code",
   "execution_count": null,
   "metadata": {},
   "outputs": [],
   "source": [
    "# Static vs Dynamic Variables in Python\n",
    "Python doesn't have static variables in the same way as languages like C++ or Java.\n",
    "\n",
    "# Dynamic Typing in Python\n",
    "Python is a dynamically typed language. This means the type of a variable is determined at runtime based on the value assigned to it.\n",
    "\n",
    "x = 10  # x is an integer\n",
    "x = \"hello\"  # x is now a string\n",
    "\n",
    "As you can see, the variable x can hold different data types without any prior declaration. This flexibility is a key characteristic of Python."
   ]
  },
  {
   "cell_type": "code",
   "execution_count": null,
   "metadata": {},
   "outputs": [],
   "source": [
    "# pop()\n",
    "\n",
    "# Purpose: Removes and returns an item with the specified key from the dictionary.\n",
    "# Example:\n",
    "\n",
    "my_dict = {'a': 1, 'b': 2, 'c': 3}\n",
    "value = my_dict.pop('b')  # Removes 'b' and returns its value (2)\n",
    "print(my_dict)  # Output: {'a': 1, 'c': 3}\n",
    "\n",
    "# popitem()\n",
    "\n",
    "# Purpose: Removes and returns an arbitrary (key, value) pair as a tuple from the dictionary.\n",
    "# Example:\n",
    "\n",
    "my_dict = {'a': 1, 'b': 2, 'c': 3}\n",
    "item = my_dict.popitem()  # Removes and returns a random (key, value) pair\n",
    "print(item)  # Output: ('c', 3)\n",
    "print(my_dict)  # Output: {'a': 1, 'b': 2}\n",
    "\n",
    "# clear()\n",
    "\n",
    "# Purpose: Removes all items from the dictionary.\n",
    "# Example:\n",
    "\n",
    "my_dict = {'a': 1, 'b': 2, 'c': 3}\n",
    "my_dict.clear()\n",
    "print(my_dict)  # Output: {} (empty dictionary) "
   ]
  },
  {
   "cell_type": "code",
   "execution_count": null,
   "metadata": {},
   "outputs": [],
   "source": [
    "# What is a FrozenSet?\n",
    "\n",
    "# In Python, a FrozenSet is an immutable version of a set. This means that once a FrozenSet is created, its elements cannot be changed, added, or removed.\n",
    "# It is similar to a regular set in that it stores unique, unordered elements. However, the immutability is the key difference.\n",
    "# Example:\n",
    "\n",
    "my_set = {1, 2, 3, 4}  # Create a regular set\n",
    "my_frozenset = frozenset(my_set)  # Convert the set to a FrozenSet\n",
    "\n",
    "print(my_frozenset)  # Output: frozenset({1, 2, 3, 4})\n",
    "\n",
    "# Attempting to modify the FrozenSet will raise an error:\n",
    "my_frozenset.add(5)  # Raises an AttributeError\n"
   ]
  },
  {
   "cell_type": "code",
   "execution_count": null,
   "metadata": {},
   "outputs": [],
   "source": [
    "# Differentiate between mutable and immutable data types in Python and give examples of mutable and immutable data types."
   ]
  },
  {
   "cell_type": "code",
   "execution_count": null,
   "metadata": {},
   "outputs": [],
   "source": [
    "# Mutable Data Types:\n",
    "\n",
    "# Mutable data types in Python are those whose values can be changed after they are created. This means you can modify the contents of a mutable object without creating a new object.\n",
    "\n",
    "# Examples of Mutable Data Types:\n",
    "\n",
    "# Lists: A list is a mutable sequence of elements. You can add, remove, or modify elements within a list after it's created.\n",
    "\n",
    "my_list = [1, 2, 3]\n",
    "my_list.append(4)  # Modifying the list\n",
    "print(my_list)  # Output: [1, 2, 3, 4]\n",
    "\n",
    "# Dictionaries: A dictionary is a mutable collection of key-value pairs. You can add, remove, or modify key-value pairs after the dictionary is created.\n",
    "my_dict = {'a': 1, 'b': 2}\n",
    "my_dict['c'] = 3  # Adding a new key-value pair\n",
    "print(my_dict)  # Output: {'a': 1, 'b': 2, 'c': 3}\n",
    "\n",
    "# Sets: A set is a mutable collection of unique elements. You can add or remove elements from a set after it's created.\n",
    "my_set = {1, 2, 3}\n",
    "my_set.add(4)  # Adding an element to the set\n",
    "print(my_set)  # Output: {1, 2, 3, 4}\n",
    "\n",
    "# Examples of Immutable Data Types:\n",
    "\n",
    "# Numbers (int, float, complex): Numbers are immutable. You cannot change the value of a number after it's created.\n",
    "x = 10\n",
    "x = x + 1  # This creates a new integer object with the value 11\n",
    "print(x)  # Output: 11\n",
    "\n",
    "# Strings: Strings are immutable sequences of characters. You cannot change individual characters within a string.\n",
    "my_string = \"hello\"\n",
    "my_string[0] = 'H'  # This will raise a TypeError\n",
    "\n",
    "# Tuples: Tuples are immutable sequences of elements. You cannot add, remove, or modify elements within a tuple after it's created.\n",
    "my_tuple = (1, 2, 3)\n",
    "my_tuple[0] = 4  # This will raise a TypeError\n"
   ]
  },
  {
   "cell_type": "code",
   "execution_count": null,
   "metadata": {},
   "outputs": [],
   "source": [
    "# The __init__ method in Python is a special method called a constructor. It is automatically invoked when a new instance of a class is created. The purpose of __init__ is to initialize the instance's attributes with initial values.\n",
    "\n",
    "# Example:\n",
    "class Person:\n",
    "    def __init__(self, name, age):\n",
    "        self.name = name  # Initialize the name attribute\n",
    "        self.age = age    # Initialize the age attribute\n",
    "\n",
    "    def display(self):\n",
    "        print(f\"Name: {self.name}, Age: {self.age}\")\n",
    "\n",
    "# Creating instances of the Person class\n",
    "person1 = Person(\"Alice\", 30)\n",
    "person2 = Person(\"Bob\", 25)\n",
    "\n",
    "# Displaying the information of the instances\n",
    "person1.display()  # Output: Name: Alice, Age: 30\n",
    "person2.display()  # Output: Name: Bob, Age: 25"
   ]
  },
  {
   "cell_type": "code",
   "execution_count": null,
   "metadata": {},
   "outputs": [],
   "source": [
    "def add(x, y):\n",
    "    \"\"\"Adds two numbers together.\n",
    "\n",
    "    Args:\n",
    "        x: The first number.\n",
    "        y: The second number.\n",
    "\n",
    "    Returns:\n",
    "        The sum of x and y.\n",
    "    \"\"\"\n",
    "    return x + y\n",
    "# In this example, the docstring is enclosed in triple quotes (\"\"\"). It explains the function's purpose, its parameters (args), and the return value.\n",
    "\n",
    "# Key Points:\n",
    "\n",
    "# 1. Docstrings are optional but highly recommended.\n",
    "# 2. They are accessed using the __doc__ attribute of the object.\n",
    "# 3. Docstring conventions often follow the NumPy/SciPy style guide for consistency.\n",
    "# 4. Tools like Sphinx can automatically generate documentation from docstrings.\n",
    "# By using docstrings effectively, you can improve the clarity and maintainability of your Python code."
   ]
  },
  {
   "cell_type": "code",
   "execution_count": null,
   "metadata": {},
   "outputs": [],
   "source": [
    "# Unit tests in Python are small pieces of code written to test individual units or components of your codebase. Typically, a unit is a single function, method, or class. The primary goal of unit testing is to ensure that each unit works as intended and produces the correct output.\n",
    "import unittest\n",
    "\n",
    "def add(x, y):\n",
    "    return x + y\n",
    "\n",
    "class TestAdd(unittest.TestCase):\n",
    "    def test_add_positive(self):\n",
    "        self.assertEqual(add(2, 3), 5)\n",
    "\n",
    "    def test_add_negative(self):\n",
    "        self.assertEqual(add(-2, -3), -5)\n",
    "\n",
    "if __name__ == '__main__':\n",
    "    unittest.main()\n",
    "\n",
    "# In this example, we define a function add and a test case class TestAdd that inherits from unittest.TestCase. The test_add_positive and test_add_negative methods define test cases to verify the add function's behavior."
   ]
  },
  {
   "cell_type": "code",
   "execution_count": null,
   "metadata": {},
   "outputs": [],
   "source": [
    "# break\n",
    "\n",
    "# Purpose: Terminates the current loop (for or while) and transfers control to the statement immediately following the loop.\n",
    "\n",
    "# Example:\n",
    "for i in range(10):\n",
    "    if i == 5:\n",
    "        break\n",
    "    print(i)  # Output: 0 1 2 3 4\n",
    "\n",
    "# continue\n",
    "\n",
    "# Purpose: Skips the rest of the current iteration of a loop and moves to the next iteration.\n",
    "\n",
    "# Example:\n",
    "for i in range(5):\n",
    "    if i == 2:\n",
    "        continue\n",
    "    print(i)  # Output: 0 1 3 4\n",
    "\n",
    "# pass\n",
    "\n",
    "# Purpose: Acts as a placeholder, indicating that no action should be taken at that point in the code. It's often used to create empty functions or code blocks that will be filled in later.\n",
    "\n",
    "# Example:\n",
    "def my_function():\n",
    "    pass  # Placeholder for future implementation\n",
    "\n",
    "for i in range(5):\n",
    "    if i % 2 == 0:\n",
    "        pass  # Do nothing for even numbers\n",
    "    else:\n",
    "        print(i)  # Output: 1 3\n"
   ]
  },
  {
   "cell_type": "code",
   "execution_count": null,
   "metadata": {},
   "outputs": [],
   "source": [
    "# In Python, self refers to the instance of an object, and is used to access and modify its attributes and methods within class definitions.\n",
    "\n",
    "# Example:\n",
    "class MyClass:\n",
    "    def __init__(self, name):\n",
    "        self.name = name\n",
    "\n",
    "    def greet(self):\n",
    "        print(\"Hello, my name is\", self.name)\n",
    "# By using self, we can differentiate between the attributes and methods of different instances of the same class."
   ]
  },
  {
   "cell_type": "code",
   "execution_count": null,
   "metadata": {},
   "outputs": [],
   "source": [
    "# Global Attributes\n",
    "# Global attributes are defined outside of any class and can be accessed from anywhere in the code, including within classes.\n",
    "\n",
    "# Example:\n",
    "global_variable = \"I am a global variable\"\n",
    "\n",
    "class MyClass:\n",
    "    def __init__(self):\n",
    "        print(global_variable)  # Accessing global variable\n",
    "\n",
    "obj = MyClass()\n",
    "\n",
    "# Protected Attributes\n",
    "# Protected attributes are denoted with a single underscore (_) before the attribute name and are intended to be accessed only within the class and its subclasses. However, they are not strictly enforced and can be accessed from outside the class.   \n",
    "\n",
    "# Example:\n",
    "class Parent:\n",
    "    def __init__(self):\n",
    "        self._protected_attr = \"I am protected\"\n",
    "\n",
    "class Child(Parent):\n",
    "    def access_protected(self):\n",
    "        print(self._protected_attr)  # Accessing protected attribute\n",
    "\n",
    "# Accessing protected attribute from outside (not recommended)\n",
    "obj = Parent()\n",
    "print(obj._protected_attr)  # This works but is generally discouraged\n",
    "\n",
    "# Private Attributes\n",
    "# Private attributes are denoted with double underscores (__) before the attribute name and are intended to be accessed only within the class in which they are defined. Python uses name mangling to make these attributes harder to access from outside the class.   \n",
    "\n",
    "# Example:\n",
    "class MyClass:\n",
    "    def __init__(self):\n",
    "        self.__private_attr = \"I am private\"\n",
    "\n",
    "# Trying to access private attribute from outside\n",
    "obj = MyClass()\n",
    "print(obj.__private_attr)  # This will raise an AttributeError\n"
   ]
  },
  {
   "cell_type": "code",
   "execution_count": null,
   "metadata": {},
   "outputs": [],
   "source": [
    "# Modules\n",
    "# A module is a Python file containing definitions and statements. It can define functions, classes, and variables. Modules help organize code into reusable units.\n",
    "\n",
    "# Example:\n",
    "# math_operations.py\n",
    "def add(x, y):\n",
    "    return x + y\n",
    "\n",
    "def subtract(x, y):\n",
    "    return x - y\n",
    "\n",
    "# Packages\n",
    "# A package is a way of structuring Python modules into hierarchical directories. It is a collection of modules and sub-packages.\n",
    "\n",
    "# Example:\n",
    "mypackage/\n",
    "    __init__.py\n",
    "    module1.py\n",
    "    module2.py\n",
    "    subpackage/\n",
    "        __init__.py\n",
    "        module3.py"
   ]
  },
  {
   "cell_type": "code",
   "execution_count": null,
   "metadata": {},
   "outputs": [],
   "source": [
    "# Lists\n",
    "# Lists are ordered, mutable collections of items. They are defined using square brackets [].\n",
    "\n",
    "# Example:\n",
    "my_list = [1, 2, 3, \"apple\", \"banana\"]\n",
    "\n",
    "# Tuples\n",
    "# Tuples are ordered, immutable collections of items. They are defined using parentheses ().\n",
    "\n",
    "# Example:\n",
    "my_tuple = (1, 2, 3, \"apple\", \"banana\")\n",
    "\n",
    "# The primary difference between lists and tuples is mutability. Lists are mutable, meaning their contents can be changed, while tuples are immutable, meaning their contents cannot be changed after creation."
   ]
  },
  {
   "cell_type": "code",
   "execution_count": null,
   "metadata": {},
   "outputs": [],
   "source": [
    "# List Comprehensions\n",
    "# List comprehensions offer a concise way to create lists. They are constructed using square brackets [] and consist of an expression followed by a for clause and an optional if clause.\n",
    "\n",
    "# Example:\n",
    "numbers = [1, 2, 3, 4, 5]\n",
    "squares = [x**2 for x in numbers]\n",
    "print(squares)  # Output: [1, 4, 9, 16, 25]\n",
    "\n",
    "# Dict Comprehensions\n",
    "# Dict comprehensions are similar to list comprehensions but create dictionaries. They use curly braces {} and consist of a key-value pair followed by a for clause and an optional if clause.\n",
    "\n",
    "# Example:\n",
    "countries = [\"India\", \"USA\", \"France\"]\n",
    "capitals = {\"India\": \"New Delhi\", \"USA\": \"Washington D.C.\", \"France\": \"Paris\"}\n",
    "country_capitals = {country: capitals[country] for country in countries}\n",
    "print(country_capitals)  # Output: {'India': 'New Delhi', 'USA': 'Washington D.C.', 'France': 'Paris'}\n"
   ]
  },
  {
   "cell_type": "code",
   "execution_count": null,
   "metadata": {},
   "outputs": [],
   "source": [
    "# Decorators are a powerful feature in Python that allow you to modify the behavior of functions or methods without changing their source code. They are essentially functions that take another function as an argument, add some functionality to it, and return a modified function.\n",
    "def my_decorator(func):\n",
    "    def wrapper(*args, **kwargs):\n",
    "        print(\"Before function call\")\n",
    "        result = func(*args, **kwargs)\n",
    "        print(\"After function call\")\n",
    "        return result\n",
    "    return wrapper\n",
    "\n",
    "@my_decorator\n",
    "def my_function(x, y):\n",
    "    print(\"Inside the function\")\n",
    "    return x + y\n",
    "\n",
    "result = my_function(3, 4)\n",
    "print(result)\n"
   ]
  },
  {
   "cell_type": "code",
   "execution_count": null,
   "metadata": {},
   "outputs": [],
   "source": [
    "# 1. Python's memory management is handled efficiently by the interpreter.\n",
    "# 2. Developers don't need to worry about manual memory allocation and deallocation.\n",
    "# 3. Reference counting is a crucial part of Python's memory management system.\n",
    "# 4. The garbage collector plays a vital role in freeing up memory for objects that are no longer needed."
   ]
  },
  {
   "cell_type": "code",
   "execution_count": null,
   "metadata": {},
   "outputs": [],
   "source": [
    "# Lambda functions are small, anonymous functions in Python. They are defined using the lambda keyword. They are typically used for short, simple operations.\n",
    "\n",
    "# Syntax:\n",
    "lambda arguments: expression\n",
    "\n",
    "# Example:\n",
    "add = lambda x, y: x + y\n",
    "result = add(3, 4)\n",
    "print(result)  # Output: 7\n"
   ]
  },
  {
   "cell_type": "code",
   "execution_count": null,
   "metadata": {},
   "outputs": [],
   "source": [
    "# split()\n",
    "# The split() function in Python is used to break a string into a list of substrings based on a specified delimiter. If no delimiter is provided, whitespace is used by default.\n",
    "# Example:\n",
    "text = \"This is a sample string\"\n",
    "words = text.split()  # Split by whitespace\n",
    "print(words)  # Output: ['This', 'is', 'a', 'sample', 'string']\n",
    "\n",
    "# join()\n",
    "# The join() function is used to concatenate elements of an iterable (like a list or tuple) into a single string using a specified delimiter.\n",
    "# Example:\n",
    "words = [\"This\", \"is\", \"a\", \"sample\", \"string\"]\n",
    "text = \" \".join(words)\n",
    "print(text)  # Output: This is a sample string\n",
    "\n",
    "# split() breaks a string into a list.\n",
    "# join() combines elements of a list into a string."
   ]
  },
  {
   "cell_type": "code",
   "execution_count": null,
   "metadata": {},
   "outputs": [],
   "source": [
    "# Iterables\n",
    "# An iterable is any object that can be iterated over. This means you can use a for loop to go through its elements. Examples of iterables include lists, tuples, strings, dictionaries, and sets.\n",
    "my_list = [1, 2, 3]  # A list is iterable\n",
    "for num in my_list:\n",
    "    print(num)\n",
    "\n",
    "# Iterators\n",
    "# An iterator is an object that implements the iterator protocol, which consists of the __iter__() and __next__() methods. It allows you to traverse a container and access its elements one by one.  \n",
    "my_list = [1, 2, 3]\n",
    "my_iterator = iter(my_list)  # Create an iterator\n",
    "\n",
    "print(next(my_iterator))  # Output: 1\n",
    "print(next(my_iterator))  # Output: 2\n",
    "print(next(my_iterator))  # Output: 3\n",
    "\n",
    "# Generators\n",
    "# Generators are a special type of iterator created using the yield keyword. They provide a convenient way to implement lazy evaluation, meaning values are generated on-the-fly as needed, instead of storing them all in memory at once.\n",
    "def my_generator():\n",
    "    for i in range(3):\n",
    "        yield i + 1\n",
    "\n",
    "for num in my_generator():\n",
    "    print(num)  # Output: 1 2 3\n",
    "\n"
   ]
  },
  {
   "cell_type": "code",
   "execution_count": null,
   "metadata": {},
   "outputs": [],
   "source": [
    "# xrange (Python 2 only)\n",
    "# 1. Generates numbers on the fly: Instead of creating a complete list in memory, xrange returns an iterator that produces numbers as needed.\n",
    "# 2. Memory efficient: Ideal for large sequences as it avoids creating a massive list in memory.\n",
    "# 3. Slower for repeated iterations: Since numbers are generated on demand, accessing the same number multiple times can be slower than with range.\n",
    "# range (Python 2 and 3)\n",
    "# 1. Creates a list: Returns a list containing all the numbers in the specified range.\n",
    "# 2. Memory intensive: Can consume significant memory for large sequences.\n",
    "# 3. Faster for repeated iterations: Since the list is already created, accessing elements is quicker."
   ]
  },
  {
   "cell_type": "code",
   "execution_count": null,
   "metadata": {},
   "outputs": [],
   "source": [
    "# Object-Oriented Programming (OOP) is based on four fundamental concepts, often referred to as the \"pillars\" of OOP:\n",
    "# 1. Encapsulation\n",
    "# Encapsulation is the bundling of data (attributes) and methods (functions) that operate on that data within a single unit, called an object. This protects the data from external interference and misuse.   \n",
    "# Example: A Car class encapsulates attributes like color, make, model, and methods like start(), stop(), accelerate().\n",
    "\n",
    "# 2. Inheritance\n",
    "# Inheritance is the mechanism by which one class inherits the properties and methods of another class. This promotes code reusability and creates hierarchical relationships between classes.\n",
    "# Example: A Dog class can inherit properties like name, breed from a Animal class.\n",
    "\n",
    "# 3. Polymorphism\n",
    "# Polymorphism allows objects of different types to be treated as if they were of the same type. It enables flexibility and extensibility in code.\n",
    "# Example: Different animals can make different sounds, but they can all be treated as Animal objects and asked to make_sound().\n",
    "\n",
    "# 4. Abstraction\n",
    "# Abstraction is the process of hiding implementation details and providing a simplified view of an object. It focuses on essential features and functionality.\\\n",
    "# Example: A Car class can be abstracted as a vehicle with methods like start() and stop(), without revealing the internal workings of the engine."
   ]
  },
  {
   "cell_type": "code",
   "execution_count": null,
   "metadata": {},
   "outputs": [],
   "source": [
    "# In Python, you can use the built-in function issubclass() to determine if a class is a subclass of another class.\n",
    "# This function returns True if subclass is a subclass of superclass, otherwise it returns False.\n",
    "\n",
    "# Example:\n",
    "class Animal:\n",
    "    pass\n",
    "\n",
    "class Dog(Animal):\n",
    "    pass\n",
    "\n",
    "class Cat(Animal):\n",
    "    pass\n",
    "\n",
    "class Fish:\n",
    "    pass\n",
    "\n",
    "print(issubclass(Dog, Animal))  # Output: True\n",
    "print(issubclass(Cat, Animal))  # Output: True\n",
    "print(issubclass(Fish, Animal))  # Output: False\n",
    "\n",
    "# In the above example, Dog and Cat are subclasses of Animal, while Fish is not."
   ]
  },
  {
   "cell_type": "code",
   "execution_count": null,
   "metadata": {},
   "outputs": [],
   "source": [
    "# Inheritance is a core concept in object-oriented programming (OOP) that allows you to create new classes (derived classes or subclasses) based on existing classes (base classes or superclasses). This promotes code reusability and hierarchical relationships between classes.   \n",
    "\n",
    "# Types of Inheritance in Python\n",
    "# 1. Single Inheritance\n",
    "# A child class inherits from only one parent class.\n",
    "class Animal:\n",
    "    def __init__(self, name):\n",
    "        self.name = name\n",
    "\n",
    "    def speak(self):\n",
    "        print(\"Animal is speaking\")\n",
    "\n",
    "class Dog(Animal):\n",
    "    def bark(self):\n",
    "        print(\"Dog barks\")\n",
    "\n",
    "# 2. Multiple Inheritance\n",
    "# A child class inherits from multiple parent classes.\n",
    "class Flyer:\n",
    "    def fly(self):\n",
    "        print(\"I can fly\")\n",
    "\n",
    "class Swimmer:\n",
    "    def swim(self):\n",
    "        print(\"I can swim\")\n",
    "\n",
    "class FlyingFish(Flyer, Swimmer):\n",
    "    pass\n",
    "\n",
    "# 3. Multi-level Inheritance\n",
    "# A child class inherits from a parent class, which in turn inherits from another parent class.\n",
    "class Grandfather:\n",
    "    pass\n",
    "\n",
    "class Father(Grandfather):\n",
    "    pass\n",
    "\n",
    "class Son(Father):\n",
    "    pass\n",
    "\n",
    "# 4. Hierarchical Inheritance\n",
    "# Multiple child classes inherit from a single parent class.\n",
    "class Animal:\n",
    "    pass\n",
    "\n",
    "class Dog(Animal):\n",
    "    pass\n",
    "\n",
    "class Cat(Animal):\n",
    "    pass\n",
    "\n",
    "# 5.  Hybrid Inheritance\n",
    "# A combination of multiple types of inheritance.\n",
    "\n",
    "# How Inheritance Works\n",
    "# 1. A child class inherits all the attributes and methods of its parent class.\n",
    "# 2. The child class can override or extend the inherited methods.\n",
    "# 3. You can use the super() function to access methods of the parent class from the child class.\n",
    "# Example:\n",
    "class Animal:\n",
    "    def __init__(self, name):\n",
    "        self.name = name\n",
    "\n",
    "    def speak(self):\n",
    "        print(\"Animal is speaking\")\n",
    "\n",
    "class Dog(Animal):\n",
    "    def speak(self):\n",
    "        print(\"Woof!\")\n",
    "\n",
    "# Creating an object of the Dog class\n",
    "dog = Dog(\"Buddy\")\n",
    "dog.speak()  # Output: Woof!\n"
   ]
  },
  {
   "cell_type": "code",
   "execution_count": null,
   "metadata": {},
   "outputs": [],
   "source": [
    "# Encapsulation is a fundamental concept in object-oriented programming (OOP) that involves bundling data (attributes) and methods that operate on that data within a single unit, called a class. This concept helps hide the internal state of an object from the outside world, providing a controlled interface for interacting with the object's data and methods.   \n",
    "\n",
    "# Example:\n",
    "class Car:\n",
    "    def __init__(self, color, make, model):\n",
    "        self.__color = color  # Private attribute\n",
    "        self.__make = make\n",
    "        self.__model = model\n",
    "\n",
    "    def get_color(self):\n",
    "        return self.__color\n",
    "\n",
    "    def set_color(self, color):\n",
    "        self.__color = color\n",
    "\n",
    "    def start(self):\n",
    "        print(\"Car started\")\n",
    "\n",
    "    def stop(self):\n",
    "        print(\"Car stopped\")\n",
    "\n",
    "# By encapsulating the data and methods within the Car class, we protect the internal state of the car object from accidental modification. Users can only interact with the car through its public methods, ensuring data integrity and preventing unintended side effects.\n"
   ]
  },
  {
   "cell_type": "code",
   "execution_count": null,
   "metadata": {},
   "outputs": [],
   "source": [
    "# Polymorphism is a core concept in object-oriented programming (OOP) that allows objects of different types to be treated as if they were of the same type. It enables you to write more flexible and reusable code.\n",
    "\n",
    "# Example:\n",
    "class Animal:\n",
    "    def make_sound(self):\n",
    "        print(\"Animal is making a sound\")\n",
    "\n",
    "class Dog(Animal):\n",
    "    def make_sound(self):\n",
    "        print(\"Woof!\")\n",
    "\n",
    "class Cat(Animal):\n",
    "    def make_sound(self):\n",
    "        print(\"Meow!\")\n",
    "\n",
    "def animal_sound(animal):\n",
    "    animal.make_sound()\n",
    "\n",
    "# Create objects\n",
    "dog = Dog()\n",
    "cat = Cat()\n",
    "\n",
    "# Call the function with different objects\n",
    "animal_sound(dog)  # Output: Woof!\n",
    "animal_sound(cat)  # Output: Meow!\n",
    "\n",
    "# Key points:\n",
    "\n",
    "# 1. Polymorphism allows you to write generic code that can work with different types of objects.\n",
    "# 2. It enhances code flexibility and maintainability.\n",
    "# 3. Method overriding is a common way to implement polymorphism.\n"
   ]
  },
  {
   "cell_type": "markdown",
   "metadata": {},
   "source": [
    "# Answer 1.2"
   ]
  },
  {
   "cell_type": "code",
   "execution_count": null,
   "metadata": {},
   "outputs": [],
   "source": [
    "# Invalid identifier names:\n",
    "# a) Serial_no. - Contains a period (.) which is not allowed in Python identifiers.\n",
    "# b) 1st_Room - Starts with a digit (1), which is not allowed in Python identifiers.\n",
    "# c) Hundred$ - Contains a special character ($), which is not allowed in Python identifiers.\n",
    "# e) total-Marks - Contains a hyphen (-), which is not allowed in Python identifiers.\n",
    "# f) Total Marks - Contains a space, which is not allowed in Python identifiers.\n",
    "# h) _Percentag - Ends with an underscore, which is allowed, but it's generally considered a bad practice to end identifiers with underscores.\n",
    "\n",
    "# The rest of the identifier names (d, g) are valid."
   ]
  },
  {
   "cell_type": "markdown",
   "metadata": {},
   "source": [
    "# Answer 1.3 a)"
   ]
  },
  {
   "cell_type": "code",
   "execution_count": null,
   "metadata": {},
   "outputs": [],
   "source": [
    "name = [\"Mohan\", \"dash\", \"karam\", \"chandra\", \"gandhi\", \"Bapu\"]\n",
    "\n",
    "# Add \"freedom_fighter\" at the 0th index\n",
    "name.insert(0, \"freedom_fighter\")\n",
    "\n",
    "print(name)"
   ]
  },
  {
   "cell_type": "markdown",
   "metadata": {},
   "source": [
    "# Answer 1.3 b)"
   ]
  },
  {
   "cell_type": "code",
   "execution_count": null,
   "metadata": {},
   "outputs": [],
   "source": [
    "name = [\"freedomFighter\",\"Bapuji\",\"MOhan\" \"dash\", \"karam\",\n",
    "\"chandra\",\"gandhi\"]\n",
    "\n",
    "length1=len((name[-len(name)+1:-1:2]))\n",
    "\n",
    "length2=len((name[-len(name)+1:-1]))\n",
    "\n",
    "print(length1+length2)"
   ]
  },
  {
   "cell_type": "markdown",
   "metadata": {},
   "source": [
    "# Answer 1.3 c)"
   ]
  },
  {
   "cell_type": "code",
   "execution_count": 4,
   "metadata": {},
   "outputs": [
    {
     "name": "stdout",
     "output_type": "stream",
     "text": [
      "['freedom_fighter', 'Mohan', 'dash', 'karam', 'chandra', 'gandhi', 'Bapu', 'NetaJi', 'Bose']\n"
     ]
    }
   ],
   "source": [
    "name = [\"freedom_fighter\", \"Mohan\", \"dash\", \"karam\", \"chandra\", \"gandhi\", \"Bapu\"]\n",
    "\n",
    "# Add \"NetaJi\" and \"Bose\" at the end of the list\n",
    "name.extend([\"NetaJi\", \"Bose\"])\n",
    "\n",
    "print(name)"
   ]
  },
  {
   "cell_type": "markdown",
   "metadata": {},
   "source": [
    "# Answer 1.3 d)"
   ]
  },
  {
   "cell_type": "code",
   "execution_count": 5,
   "metadata": {},
   "outputs": [
    {
     "name": "stdout",
     "output_type": "stream",
     "text": [
      "['Mohan', 'dash', 'karam', 'chandra', 'gandi', 'Bapuji']\n"
     ]
    }
   ],
   "source": [
    "name = [\"Bapuji\", \"dash\", \"karam\", \"chandra\", \"gandi\", \"Mohan\"]\n",
    "\n",
    "temp = name[-1]  # temp is \"Mohan\"\n",
    "\n",
    "name[-1] = name[0]  # Last element is now \"Bapuji\"\n",
    "\n",
    "name[0] = temp  # First element is now \"Mohan\"\n",
    "\n",
    "print(name)"
   ]
  },
  {
   "cell_type": "markdown",
   "metadata": {},
   "source": [
    "# Answer 1.4"
   ]
  },
  {
   "cell_type": "code",
   "execution_count": 6,
   "metadata": {},
   "outputs": [
    {
     "name": "stdout",
     "output_type": "stream",
     "text": [
      "2\n"
     ]
    }
   ],
   "source": [
    "animal = ['Human','cat','mat','cat','rat','Human', 'Lion']\n",
    "\n",
    "print(animal.count('Human'))"
   ]
  },
  {
   "cell_type": "code",
   "execution_count": 7,
   "metadata": {},
   "outputs": [
    {
     "name": "stdout",
     "output_type": "stream",
     "text": [
      "4\n"
     ]
    }
   ],
   "source": [
    "animal = ['Human','cat','mat','cat','rat','Human', 'Lion']\n",
    "print(animal.index('rat'))\n"
   ]
  },
  {
   "cell_type": "code",
   "execution_count": 8,
   "metadata": {},
   "outputs": [
    {
     "name": "stdout",
     "output_type": "stream",
     "text": [
      "7\n"
     ]
    }
   ],
   "source": [
    "animal = ['Human','cat','mat','cat','rat','Human', 'Lion']\n",
    "print(len(animal))"
   ]
  },
  {
   "cell_type": "markdown",
   "metadata": {},
   "source": [
    "# Answer 1.5"
   ]
  },
  {
   "cell_type": "code",
   "execution_count": 9,
   "metadata": {},
   "outputs": [
    {
     "name": "stdout",
     "output_type": "stream",
     "text": [
      "8\n",
      "Navneet\n",
      "q1\n",
      "ji\n",
      "22\n"
     ]
    }
   ],
   "source": [
    "tuple1 = (10, 20, \"Apple\", 3.4, 'a', [\"master\", \"ji\"], (\"sita\", \"geeta\", 22), [{\"roll_no\": \"q1\"}, {\"name\": \"Navneet\"}])\n",
    "\n",
    "# a) Print the length of the tuple\n",
    "print(len(tuple1))  # Output: 8\n",
    "\n",
    "# b) Print the value of \"name\" from the last element of the tuple\n",
    "print(tuple1[-1][-1][\"name\"])  # Output: Navneet\n",
    "\n",
    "# c) Fetch the value of \"roll_no\" from the tuple\n",
    "print(tuple1[-1][0][\"roll_no\"])  # Output: q1\n",
    "\n",
    "# d) Print the element at the 1st index of the 6th element of the tuple\n",
    "print(tuple1[-3][1])  # Output: ji\n",
    "\n",
    "# e) Fetch the element \"22\" from the tuple\n",
    "print(tuple1[-2][2])  # Output: 22\n"
   ]
  },
  {
   "cell_type": "markdown",
   "metadata": {},
   "source": [
    "# Answer 1.6"
   ]
  },
  {
   "cell_type": "code",
   "execution_count": 10,
   "metadata": {},
   "outputs": [
    {
     "name": "stdout",
     "output_type": "stream",
     "text": [
      "Enter the signal color (Red/Yellow/Green): green\n",
      "Go\n"
     ]
    }
   ],
   "source": [
    "# Function to display the message based on the signal color\n",
    "def signal_message(color):\n",
    "    color = color.lower()  # Convert the input to lowercase for case-insensitive comparison\n",
    "    if color == \"red\":\n",
    "        return \"Stop\"\n",
    "    elif color == \"yellow\":\n",
    "        return \"Stay\"\n",
    "    elif color == \"green\":\n",
    "        return \"Go\"\n",
    "    else:\n",
    "        return \"Invalid color\"\n",
    "\n",
    "# Get the signal color from the user\n",
    "color = input(\"Enter the signal color (Red/Yellow/Green): \")\n",
    "\n",
    "# Display the appropriate message\n",
    "message = signal_message(color)\n",
    "print(message)"
   ]
  },
  {
   "cell_type": "markdown",
   "metadata": {},
   "source": [
    "# Answer 1.7"
   ]
  },
  {
   "cell_type": "code",
   "execution_count": 11,
   "metadata": {},
   "outputs": [
    {
     "name": "stdout",
     "output_type": "stream",
     "text": [
      "Select operation:\n",
      "1. Add\n",
      "2. Subtract\n",
      "3. Multiply\n",
      "4. Divide\n",
      "Enter choice (1/2/3/4): 3\n",
      "Enter first number: 2\n",
      "Enter second number: 5\n",
      "The result is: 10.0\n"
     ]
    }
   ],
   "source": [
    "def add(a, b):\n",
    "    return a + b\n",
    "\n",
    "def subtract(a, b):\n",
    "    return a - b\n",
    "\n",
    "def multiply(a, b):\n",
    "    return a * b\n",
    "\n",
    "def divide(a, b):\n",
    "    if b == 0:\n",
    "        return \"Error! Division by zero.\"\n",
    "    else:\n",
    "        return a / b\n",
    "\n",
    "def calculator():\n",
    "    print(\"Select operation:\")\n",
    "    print(\"1. Add\")\n",
    "    print(\"2. Subtract\")\n",
    "    print(\"3. Multiply\")\n",
    "    print(\"4. Divide\")\n",
    "\n",
    "    # Take input from the user for the operation\n",
    "    choice = input(\"Enter choice (1/2/3/4): \")\n",
    "\n",
    "    # Check if the choice is one of the four options\n",
    "    if choice in ['1', '2', '3', '4']:\n",
    "        # Take input from the user for the numbers\n",
    "        num1 = float(input(\"Enter first number: \"))\n",
    "        num2 = float(input(\"Enter second number: \"))\n",
    "\n",
    "        if choice == '1':\n",
    "            print(f\"The result is: {add(num1, num2)}\")\n",
    "\n",
    "        elif choice == '2':\n",
    "            print(f\"The result is: {subtract(num1, num2)}\")\n",
    "\n",
    "        elif choice == '3':\n",
    "            print(f\"The result is: {multiply(num1, num2)}\")\n",
    "\n",
    "        elif choice == '4':\n",
    "            print(f\"The result is: {divide(num1, num2)}\")\n",
    "    else:\n",
    "        print(\"Invalid input\")\n",
    "\n",
    "# Run the calculator function\n",
    "calculator()"
   ]
  },
  {
   "cell_type": "markdown",
   "metadata": {},
   "source": [
    "# Answer 1.8 "
   ]
  },
  {
   "cell_type": "code",
   "execution_count": 12,
   "metadata": {},
   "outputs": [
    {
     "name": "stdout",
     "output_type": "stream",
     "text": [
      "The largest number is: 20\n"
     ]
    }
   ],
   "source": [
    "# Pre-specified numbers\n",
    "a = 10\n",
    "b = 20\n",
    "c = 15\n",
    "\n",
    "# Find the largest number using nested ternary operators\n",
    "largest = a if (a > b and a > c) else (b if b > c else c)\n",
    "\n",
    "# Print the result\n",
    "print(f\"The largest number is: {largest}\")"
   ]
  },
  {
   "cell_type": "markdown",
   "metadata": {},
   "source": [
    "# Answer 1.9"
   ]
  },
  {
   "cell_type": "code",
   "execution_count": 13,
   "metadata": {},
   "outputs": [
    {
     "name": "stdout",
     "output_type": "stream",
     "text": [
      "Enter a whole number: 56\n",
      "The factors of 56 are: [1, 2, 4, 7, 8, 14, 28, 56]\n"
     ]
    }
   ],
   "source": [
    "# Function to find the factors of a number using a while loop\n",
    "def find_factors(n):\n",
    "    factors = []\n",
    "    i = 1\n",
    "    \n",
    "    # Iterate from 1 to n to find all factors\n",
    "    while i <= n:\n",
    "        if n % i == 0:\n",
    "            factors.append(i)\n",
    "        i += 1\n",
    "    \n",
    "    return factors\n",
    "\n",
    "# Input: Whole number\n",
    "number = int(input(\"Enter a whole number: \"))\n",
    "\n",
    "# Ensure the number is positive\n",
    "if number > 0:\n",
    "    # Find and print the factors\n",
    "    factors = find_factors(number)\n",
    "    print(f\"The factors of {number} are: {factors}\")\n",
    "else:\n",
    "    print(\"Please enter a positive whole number.\")\n"
   ]
  },
  {
   "cell_type": "markdown",
   "metadata": {},
   "source": [
    "# Answer 1.10"
   ]
  },
  {
   "cell_type": "code",
   "execution_count": 14,
   "metadata": {},
   "outputs": [
    {
     "name": "stdout",
     "output_type": "stream",
     "text": [
      "Enter a positive number (negative number to stop): 66\n",
      "Enter a positive number (negative number to stop): 45\n",
      "Enter a positive number (negative number to stop): 38\n",
      "Enter a positive number (negative number to stop): -9\n",
      "The sum of all positive numbers entered is: 149.0\n"
     ]
    }
   ],
   "source": [
    "# Initialize sum\n",
    "total_sum = 0\n",
    "\n",
    "while True:\n",
    "    # Prompt the user to enter a number\n",
    "    num = float(input(\"Enter a positive number (negative number to stop): \"))\n",
    "    \n",
    "    # Check if the number is negative\n",
    "    if num < 0:\n",
    "        break\n",
    "    \n",
    "    # Add the number to the sum\n",
    "    total_sum += num\n",
    "\n",
    "# Display the sum of all positive numbers entered\n",
    "print(f\"The sum of all positive numbers entered is: {total_sum}\")\n"
   ]
  },
  {
   "cell_type": "markdown",
   "metadata": {},
   "source": [
    "# Answer 1.11"
   ]
  },
  {
   "cell_type": "code",
   "execution_count": 15,
   "metadata": {},
   "outputs": [
    {
     "name": "stdout",
     "output_type": "stream",
     "text": [
      "Prime numbers between 2 and 100 are:\n",
      "2 3 5 7 11 13 17 19 23 29 31 37 41 43 47 53 59 61 67 71 73 79 83 89 97 "
     ]
    }
   ],
   "source": [
    "# Function to check if a number is prime\n",
    "def is_prime(n):\n",
    "    if n <= 1:\n",
    "        return False\n",
    "    for i in range(2, int(n ** 0.5) + 1):\n",
    "        if n % i == 0:\n",
    "            return False\n",
    "    return True\n",
    "\n",
    "# Find and print prime numbers between 2 and 100\n",
    "print(\"Prime numbers between 2 and 100 are:\")\n",
    "\n",
    "for num in range(2, 101):\n",
    "    if is_prime(num):\n",
    "        print(num, end=' ')\n"
   ]
  },
  {
   "cell_type": "markdown",
   "metadata": {},
   "source": [
    "# Answer 1.12"
   ]
  },
  {
   "cell_type": "code",
   "execution_count": 25,
   "metadata": {},
   "outputs": [
    {
     "ename": "SyntaxError",
     "evalue": "invalid syntax (<ipython-input-25-4ec186e21ffe>, line 23)",
     "output_type": "error",
     "traceback": [
      "\u001b[1;36m  File \u001b[1;32m\"<ipython-input-25-4ec186e21ffe>\"\u001b[1;36m, line \u001b[1;32m23\u001b[0m\n\u001b[1;33m    grade = match percentage:\u001b[0m\n\u001b[1;37m                           ^\u001b[0m\n\u001b[1;31mSyntaxError\u001b[0m\u001b[1;31m:\u001b[0m invalid syntax\n"
     ]
    }
   ],
   "source": [
    "def calculate_grade():\n",
    "  \"\"\"Calculates the grade of a student based on their marks in five subjects.\n",
    "\n",
    "  Returns:\n",
    "    A tuple containing the total marks, percentage, and grade of the student.\n",
    "  \"\"\"\n",
    "\n",
    "  marks = []\n",
    "  for i in range(5):\n",
    "    while True:\n",
    "      try:\n",
    "        marks.append(float(input(f\"Enter the marks for subject {i+1}: \")))\n",
    "        if 0 <= marks[i] <= 100:\n",
    "          break\n",
    "        else:\n",
    "          print(\"Invalid marks. Please enter a value between 0 and 100.\")\n",
    "      except ValueError:\n",
    "        print(\"Invalid input. Please enter a number.\")\n",
    "\n",
    "  total_marks = sum(marks)\n",
    "  percentage = total_marks / 5\n",
    "\n",
    "  grade = match percentage:\n",
    "      case x if x > 85:\n",
    "          return total_marks, percentage, \"A\"\n",
    "      case x if x >= 75:\n",
    "          return total_marks, percentage, \"B\"\n",
    "      case x if x >= 50:\n",
    "          return total_marks, percentage, \"C\"\n",
    "      case x if 30 <= x <= 50:\n",
    "          return total_marks, percentage, \"D\"\n",
    "      case _:\n",
    "          return total_marks, percentage, \"Reappear\"\n",
    "\n",
    "# Main function\n",
    "if __name__ == \"__main__\":\n",
    "  total_marks, percentage, grade = calculate_grade()\n",
    "  print(f\"Total marks: {total_marks}\")\n",
    "  print(f\"Percentage: {percentage:.2f}\")\n",
    "  print(f\"Grade: {grade}\")"
   ]
  },
  {
   "cell_type": "markdown",
   "metadata": {},
   "source": [
    "# Answer 1.13"
   ]
  },
  {
   "cell_type": "code",
   "execution_count": 24,
   "metadata": {},
   "outputs": [
    {
     "name": "stdout",
     "output_type": "stream",
     "text": [
      "Violet: 400.0 - 440.0 nm\n",
      "Indigo: 440.0 - 460.0 nm\n",
      "Blue: 460.0 - 500.0 nm\n",
      "Green: 500.0 - 570.0 nm\n",
      "Yellow: 570.0 - 590.0 nm\n",
      "Orange: 590.0 - 620.0 nm\n",
      "Red: 620.0 - 720.0 nm\n"
     ]
    }
   ],
   "source": [
    "def vibgyor_colors():\n",
    "  \"\"\"Returns a dictionary containing VIBGYOR colors and their wavelength ranges.\"\"\"\n",
    "\n",
    "  colors = {\n",
    "      \"Violet\": (400.0, 440.0),\n",
    "      \"Indigo\": (440.0, 460.0),\n",
    "      \"Blue\": (460.0, 500.0),\n",
    "      \"Green\": (500.0, 570.0),\n",
    "      \"Yellow\": (570.0, 590.0),\n",
    "      \"Orange\": (590.0, 620.0),\n",
    "      \"Red\": (620.0, 720.0),\n",
    "  }\n",
    "  return colors\n",
    "\n",
    "# Example usage\n",
    "vibgyor_dict = vibgyor_colors()\n",
    "for color, wavelength_range in vibgyor_dict.items():\n",
    "  print(f\"{color}: {wavelength_range[0]} - {wavelength_range[1]} nm\")"
   ]
  },
  {
   "cell_type": "markdown",
   "metadata": {},
   "source": [
    "# Answer 1.14"
   ]
  },
  {
   "cell_type": "code",
   "execution_count": 31,
   "metadata": {},
   "outputs": [
    {
     "ename": "SyntaxError",
     "evalue": "invalid character in identifier (<ipython-input-31-27670daca430>, line 2)",
     "output_type": "error",
     "traceback": [
      "\u001b[1;36m  File \u001b[1;32m\"<ipython-input-31-27670daca430>\"\u001b[1;36m, line \u001b[1;32m2\u001b[0m\n\u001b[1;33m    mass_earth = 5.972*(10^24)\u001b[0m\n\u001b[1;37m                              ^\u001b[0m\n\u001b[1;31mSyntaxError\u001b[0m\u001b[1;31m:\u001b[0m invalid character in identifier\n"
     ]
    }
   ],
   "source": [
    "# This code calculates the force between Earth and Sun and prints the result.\n",
    "mass_earth = 5.972*(10^24) \n",
    "# Mass of Earth in kilograms\n",
    "\n",
    "mass_moon = 7.34767309*(10^22) \n",
    "# Mass of Moon in kilograms\n",
    "\n",
    "mass_sun = 1.989*(10^30) \n",
    "# Mass of Sun in kilograms\n",
    "\n",
    "\n",
    "distance_earth_sun = 1.49*(10^11) \n",
    "# Average distance between Earth and Sun in meters\n",
    "\n",
    "distance_moon_earth = 3.844*(10^8) \n",
    "# Average distance between Moon and Earth in meters\n",
    "G = 6.6743e-11  # Gravitational constant\n",
    "\n",
    "force_earth_sun = G * (mass_earth * mass_sun) / (distance_earth_sun**2)\n",
    "\n",
    "print(\"Gravitational force between Earth and Sun:\", force_earth_sun, \"Newtons\")\n",
    "\n",
    "# This code calculates the force between Moon and Earth and prints the result.\n",
    "force_moon_earth = G * (mass_earth * mass_moon) / (distance_moon_earth**2)\n",
    "\n",
    "print(\"Gravitational force between Moon and Earth:\", force_moon_earth, \"Newtons\")\n"
   ]
  },
  {
   "cell_type": "markdown",
   "metadata": {},
   "source": [
    "# Answer 2"
   ]
  },
  {
   "cell_type": "code",
   "execution_count": 32,
   "metadata": {},
   "outputs": [
    {
     "name": "stdout",
     "output_type": "stream",
     "text": [
      "Initial student information:\n",
      "Name: Alice\n",
      "Age: 20\n",
      "Roll Number: 123\n",
      "Enter new name: Ashish\n",
      "Enter new age: 27\n",
      "Enter new roll number: 234\n",
      "Student details updated successfully!\n",
      "\n",
      "Updated student information:\n",
      "Name: Ashish\n",
      "Age: 234\n",
      "Roll Number: 123\n"
     ]
    }
   ],
   "source": [
    "class Student:\n",
    "  \"\"\"\n",
    "  This class represents a student with attributes and methods for managing their information.\n",
    "  \"\"\"\n",
    "\n",
    "  def __init__(self, name, age, roll_number):\n",
    "    \"\"\"\n",
    "    Initializes a Student object with the given name, age, and roll number.\n",
    "\n",
    "    Args:\n",
    "      name: The student's name (string).\n",
    "      age: The student's age (integer).\n",
    "      roll_number: The student's unique roll number (integer).\n",
    "    \"\"\"\n",
    "    self.__name = name\n",
    "    self.__age = age\n",
    "    self.__roll_number = roll_number\n",
    "\n",
    "  # Getter methods\n",
    "  def get_name(self):\n",
    "    \"\"\"\n",
    "    Returns the student's name.\n",
    "    \"\"\"\n",
    "    return self.__name\n",
    "\n",
    "  def get_age(self):\n",
    "    \"\"\"\n",
    "    Returns the student's age.\n",
    "    \"\"\"\n",
    "    return self.__age\n",
    "\n",
    "  def get_roll_number(self):\n",
    "    \"\"\"\n",
    "    Returns the student's roll number.\n",
    "    \"\"\"\n",
    "    return self.__roll_number\n",
    "\n",
    "  # Setter methods\n",
    "  def set_name(self, name):\n",
    "    \"\"\"\n",
    "    Updates the student's name.\n",
    "\n",
    "    Args:\n",
    "      name: The new name for the student (string).\n",
    "    \"\"\"\n",
    "    self.__name = name\n",
    "\n",
    "  def set_age(self, age):\n",
    "    \"\"\"\n",
    "    Updates the student's age.\n",
    "\n",
    "    Args:\n",
    "      age: The new age for the student (integer).\n",
    "    \"\"\"\n",
    "    self.__age = age\n",
    "\n",
    "  def set_roll_number(self, roll_number):\n",
    "    \"\"\"\n",
    "    Updates the student's roll number.\n",
    "\n",
    "    Args:\n",
    "      roll_number: The new roll number for the student (integer).\n",
    "    \"\"\"\n",
    "    self.__age = roll_number\n",
    "\n",
    "  # Additional methods\n",
    "  def display_info(self):\n",
    "    \"\"\"\n",
    "    Prints the student's information in a formatted way.\n",
    "    \"\"\"\n",
    "    print(f\"Name: {self.get_name()}\")\n",
    "    print(f\"Age: {self.get_age()}\")\n",
    "    print(f\"Roll Number: {self.get_roll_number()}\")\n",
    "\n",
    "  def update_details(self):\n",
    "    \"\"\"\n",
    "    Prompts the user for new values and updates the student's information.\n",
    "    \"\"\"\n",
    "    new_name = input(\"Enter new name: \")\n",
    "    self.set_name(new_name)\n",
    "\n",
    "    new_age = int(input(\"Enter new age: \"))\n",
    "    self.set_age(new_age)\n",
    "\n",
    "    new_roll_number = int(input(\"Enter new roll number: \"))\n",
    "    self.set_roll_number(new_roll_number)\n",
    "\n",
    "    print(\"Student details updated successfully!\")\n",
    "\n",
    "\n",
    "# Testing the program\n",
    "student1 = Student(\"Alice\", 20, 123)\n",
    "\n",
    "print(\"Initial student information:\")\n",
    "student1.display_info()\n",
    "\n",
    "student1.update_details()\n",
    "\n",
    "print(\"\\nUpdated student information:\")\n",
    "student1.display_info()\n"
   ]
  },
  {
   "cell_type": "markdown",
   "metadata": {},
   "source": [
    "# Answer 3"
   ]
  },
  {
   "cell_type": "code",
   "execution_count": null,
   "metadata": {},
   "outputs": [],
   "source": []
  },
  {
   "cell_type": "code",
   "execution_count": 33,
   "metadata": {},
   "outputs": [
    {
     "name": "stdout",
     "output_type": "stream",
     "text": [
      "The Hitchhiker's Guide to the Galaxy by Douglas Adams: True\n",
      "The Hitchhiker's Guide to the Galaxy by Douglas Adams has been borrowed successfully.\n",
      "\n",
      "Pride and Prejudice by Jane Austen: True\n",
      "Pride and Prejudice by Jane Austen has been borrowed successfully.\n",
      "\n",
      "Trying to borrow an unavailable book:\n",
      "The Hitchhiker's Guide to the Galaxy by Douglas Adams is currently unavailable.\n",
      "\n",
      "Returning books:\n",
      "The Hitchhiker's Guide to the Galaxy by Douglas Adams has been returned successfully.\n",
      "Pride and Prejudice by Jane Austen has been returned successfully.\n",
      "\n",
      "The Hitchhiker's Guide to the Galaxy by Douglas Adams: True\n",
      "Pride and Prejudice by Jane Austen: True\n"
     ]
    }
   ],
   "source": [
    "class LibraryBook:\n",
    "  \"\"\"\n",
    "  This class represents a book in the library with attributes and methods for managing its availability.\n",
    "  \"\"\"\n",
    "\n",
    "  def __init__(self, book_name, author):\n",
    "    \"\"\"\n",
    "    Initializes a LibraryBook object with the given book name and author.\n",
    "    The availability status is set to True (available) by default.\n",
    "\n",
    "    Args:\n",
    "      book_name: The name of the book (string).\n",
    "      author: The author of the book (string).\n",
    "    \"\"\"\n",
    "    self.__book_name = book_name\n",
    "    self.__author = author\n",
    "    self.__available = True  # Private attribute for availability\n",
    "\n",
    "  # Getter methods\n",
    "  def get_book_name(self):\n",
    "    \"\"\"\n",
    "    Returns the book name.\n",
    "    \"\"\"\n",
    "    return self.__book_name\n",
    "\n",
    "  def get_author(self):\n",
    "    \"\"\"\n",
    "    Returns the book author.\n",
    "    \"\"\"\n",
    "    return self.__author\n",
    "\n",
    "  def is_available(self):\n",
    "    \"\"\"\n",
    "    Returns True if the book is available, False otherwise.\n",
    "    \"\"\"\n",
    "    return self.__available\n",
    "\n",
    "  # Methods to manage availability (borrowing and returning)\n",
    "  def borrow_book(self):\n",
    "    \"\"\"\n",
    "    Marks the book as borrowed if it's currently available.\n",
    "\n",
    "    Returns:\n",
    "      A message indicating success or failure depending on availability.\n",
    "    \"\"\"\n",
    "    if self.__available:\n",
    "      self.__available = False\n",
    "      return f\"{self.get_book_name()} by {self.get_author()} has been borrowed successfully.\"\n",
    "    else:\n",
    "      return f\"{self.get_book_name()} by {self.get_author()} is currently unavailable.\"\n",
    "\n",
    "  def return_book(self):\n",
    "    \"\"\"\n",
    "    Marks the book as available if it's currently borrowed.\n",
    "\n",
    "    Returns:\n",
    "      A message indicating success or failure depending on current availability.\n",
    "    \"\"\"\n",
    "    if not self.__available:\n",
    "      self.__available = True\n",
    "      return f\"{self.get_book_name()} by {self.get_author()} has been returned successfully.\"\n",
    "    else:\n",
    "      return f\"{self.get_book_name()} by {self.get_author()} is already available.\"\n",
    "\n",
    "\n",
    "# Testing the program with sample data\n",
    "book1 = LibraryBook(\"The Hitchhiker's Guide to the Galaxy\", \"Douglas Adams\")\n",
    "book2 = LibraryBook(\"Pride and Prejudice\", \"Jane Austen\")\n",
    "\n",
    "print(f\"{book1.get_book_name()} by {book1.get_author()}: {book1.is_available()}\")  # True\n",
    "print(book1.borrow_book())  # Successfully borrowed\n",
    "\n",
    "print(f\"\\n{book2.get_book_name()} by {book2.get_author()}: {book2.is_available()}\")  # True\n",
    "print(book2.borrow_book())  # Successfully borrowed\n",
    "\n",
    "print(\"\\nTrying to borrow an unavailable book:\")\n",
    "print(book1.borrow_book())  # Already borrowed\n",
    "\n",
    "print(\"\\nReturning books:\")\n",
    "print(book1.return_book())  # Successfully returned\n",
    "print(book2.return_book())  # Successfully returned\n",
    "\n",
    "print(f\"\\n{book1.get_book_name()} by {book1.get_author()}: {book1.is_available()}\")  # True\n",
    "print(f\"{book2.get_book_name()} by {book2.get_author()}: {book2.is_available()}\")  # True\n"
   ]
  },
  {
   "cell_type": "markdown",
   "metadata": {},
   "source": [
    "# Answer 4"
   ]
  },
  {
   "cell_type": "code",
   "execution_count": 36,
   "metadata": {},
   "outputs": [
    {
     "name": "stdout",
     "output_type": "stream",
     "text": [
      "\n",
      "Savings Account:\n",
      "Deposited $100.00. New balance: $600.00\n",
      "Withdrew $75.00. New balance: $525.00\n",
      "Balance: 525.0\n",
      "\n",
      "Checking Account:\n",
      "Deposited $50.00. New balance: $250.00\n",
      "Insufficient funds. Available balance: 250.0\n",
      "Withdrew $150.00. New balance: $100.00\n",
      "Balance: 100.0\n"
     ]
    }
   ],
   "source": [
    "class BankAccount:\n",
    "  \"\"\"\n",
    "  This class represents a base bank account with common attributes and methods.\n",
    "  \"\"\"\n",
    "\n",
    "  def __init__(self, account_number, balance=0.0):\n",
    "    \"\"\"\n",
    "    Initializes a BankAccount object with the given account number and initial balance.\n",
    "\n",
    "    Args:\n",
    "      account_number: The unique account number (string).\n",
    "      balance: The initial balance of the account (float, default 0.0).\n",
    "    \"\"\"\n",
    "    self.account_number = account_number\n",
    "    self.balance = balance\n",
    "\n",
    "  def deposit(self, amount):\n",
    "    \"\"\"\n",
    "    Deposits the given amount into the account and updates the balance.\n",
    "\n",
    "    Args:\n",
    "      amount: The amount to deposit (float, must be positive).\n",
    "    \"\"\"\n",
    "    if amount <= 0:\n",
    "      print(\"Invalid deposit amount. Please enter a positive value.\")\n",
    "      return\n",
    "    self.balance += amount\n",
    "    print(f\"Deposited ${amount:.2f}. New balance: ${self.balance:.2f}\")\n",
    "\n",
    "  def withdraw(self, amount):\n",
    "    \"\"\"\n",
    "    Withdraws the given amount from the account and updates the balance,\n",
    "    ensuring sufficient funds.\n",
    "\n",
    "    Args:\n",
    "      amount: The amount to withdraw (float, must be positive).\n",
    "    \"\"\"\n",
    "    if amount <= 0:\n",
    "      print(\"Invalid withdrawal amount. Please enter a positive value.\")\n",
    "      return\n",
    "    if amount > self.balance:\n",
    "      print(\"Insufficient funds. Available balance:\", self.balance)\n",
    "      return\n",
    "    self.balance -= amount\n",
    "    print(f\"Withdrew ${amount:.2f}. New balance: ${self.balance:.2f}\")\n",
    "\n",
    "  def get_balance(self):\n",
    "    \"\"\"\n",
    "    Returns the current balance of the account.\n",
    "    \"\"\"\n",
    "    return self.balance\n",
    "\n",
    "\n",
    "class SavingsAccount(BankAccount):\n",
    "  \"\"\"\n",
    "  This class represents a savings account with potentially interest-bearing features\n",
    "  (not implemented in this example for simplicity).\n",
    "  \"\"\"\n",
    "\n",
    "  pass\n",
    "\n",
    "\n",
    "class CheckingAccount(BankAccount):\n",
    "  \"\"\"\n",
    "  This class represents a checking account that may have additional features\n",
    "  like overdraft protection (not implemented in this example for simplicity).\n",
    "  \"\"\"\n",
    "\n",
    "  pass\n",
    "\n",
    "\n",
    "# Testing the banking system\n",
    "savings_account = SavingsAccount(\"SAV-12345\", 500.00)\n",
    "checking_account = CheckingAccount(\"CHK-67890\", 200.00)\n",
    "\n",
    "print(\"\\nSavings Account:\")\n",
    "savings_account.deposit(100.00)\n",
    "savings_account.withdraw(75.00)\n",
    "print(\"Balance:\", savings_account.get_balance())\n",
    "\n",
    "print(\"\\nChecking Account:\")\n",
    "checking_account.deposit(50.00)\n",
    "checking_account.withdraw(300.00)  # Insufficient funds\n",
    "checking_account.withdraw(150.00)\n",
    "print(\"Balance:\", checking_account.get_balance())\n"
   ]
  },
  {
   "cell_type": "markdown",
   "metadata": {},
   "source": [
    "# Answer 5"
   ]
  },
  {
   "cell_type": "code",
   "execution_count": 37,
   "metadata": {},
   "outputs": [
    {
     "name": "stdout",
     "output_type": "stream",
     "text": [
      "Woof!\n",
      "Meow!\n"
     ]
    }
   ],
   "source": [
    "class Animal:\n",
    "  \"\"\"\n",
    "  This class represents a base class for animals with a method for making a sound.\n",
    "  \"\"\"\n",
    "\n",
    "  def make_sound(self):\n",
    "    \"\"\"\n",
    "    Prints a generic message indicating the animal is making a sound.\n",
    "\n",
    "    This method is intended to be overridden in subclasses.\n",
    "    \"\"\"\n",
    "    print(\"Animal sound!\")\n",
    "\n",
    "\n",
    "class Dog(Animal):\n",
    "  \"\"\"\n",
    "  This class represents a dog inheriting from the Animal class.\n",
    "  \"\"\"\n",
    "\n",
    "  def make_sound(self):\n",
    "    \"\"\"\n",
    "    Overrides the base class method to make a dog sound.\n",
    "    \"\"\"\n",
    "    print(\"Woof!\")\n",
    "\n",
    "\n",
    "class Cat(Animal):\n",
    "  \"\"\"\n",
    "  This class represents a cat inheriting from the Animal class.\n",
    "  \"\"\"\n",
    "\n",
    "  def make_sound(self):\n",
    "    \"\"\"\n",
    "    Overrides the base class method to make a cat sound.\n",
    "    \"\"\"\n",
    "    print(\"Meow!\")\n",
    "\n",
    "\n",
    "# Testing the program\n",
    "dog = Dog()\n",
    "cat = Cat()\n",
    "\n",
    "dog.make_sound()  # Output: Woof!\n",
    "cat.make_sound()  # Output: Meow!\n",
    "\n",
    "# You can create more subclasses for other animals with specific sounds.\n"
   ]
  },
  {
   "cell_type": "markdown",
   "metadata": {},
   "source": [
    "# Answer 6"
   ]
  },
  {
   "cell_type": "code",
   "execution_count": 38,
   "metadata": {},
   "outputs": [
    {
     "ename": "SyntaxError",
     "evalue": "EOL while scanning string literal (<ipython-input-38-a539ee2101b5>, line 119)",
     "output_type": "error",
     "traceback": [
      "\u001b[1;36m  File \u001b[1;32m\"<ipython-input-38-a539ee2101b5>\"\u001b[1;36m, line \u001b[1;32m119\u001b[0m\n\u001b[1;33m    print(f\"Menu item with ID {item_id}\u001b[0m\n\u001b[1;37m                                       ^\u001b[0m\n\u001b[1;31mSyntaxError\u001b[0m\u001b[1;31m:\u001b[0m EOL while scanning string literal\n"
     ]
    }
   ],
   "source": []
  },
  {
   "cell_type": "code",
   "execution_count": 39,
   "metadata": {},
   "outputs": [
    {
     "ename": "AttributeError",
     "evalue": "'FoodItem' object has no attribute '__set_item_id'",
     "output_type": "error",
     "traceback": [
      "\u001b[1;31m---------------------------------------------------------------------------\u001b[0m",
      "\u001b[1;31mAttributeError\u001b[0m                            Traceback (most recent call last)",
      "\u001b[1;32m<ipython-input-39-848b2940140c>\u001b[0m in \u001b[0;36m<module>\u001b[1;34m\u001b[0m\n\u001b[0;32m     89\u001b[0m \u001b[1;31m# Assuming a unique ID generation mechanism exists (not included for simplicity)\u001b[0m\u001b[1;33m\u001b[0m\u001b[1;33m\u001b[0m\u001b[1;33m\u001b[0m\u001b[0m\n\u001b[0;32m     90\u001b[0m \u001b[0mmenu_item1\u001b[0m \u001b[1;33m=\u001b[0m \u001b[0mFoodItem\u001b[0m\u001b[1;33m(\u001b[0m\u001b[1;34m\"Pizza Margherita\"\u001b[0m\u001b[1;33m,\u001b[0m \u001b[1;34m\"Classic Italian pizza with tomato sauce and mozzarella cheese\"\u001b[0m\u001b[1;33m,\u001b[0m \u001b[1;36m12.99\u001b[0m\u001b[1;33m,\u001b[0m \u001b[1;34m\"Food\"\u001b[0m\u001b[1;33m,\u001b[0m \u001b[1;34m\"Italian\"\u001b[0m\u001b[1;33m)\u001b[0m\u001b[1;33m\u001b[0m\u001b[1;33m\u001b[0m\u001b[0m\n\u001b[1;32m---> 91\u001b[1;33m \u001b[0mmenu_item1\u001b[0m\u001b[1;33m.\u001b[0m\u001b[0m__set_item_id\u001b[0m\u001b[1;33m(\u001b[0m\u001b[1;36m1\u001b[0m\u001b[1;33m)\u001b[0m  \u001b[1;31m# Assigning a sample ID\u001b[0m\u001b[1;33m\u001b[0m\u001b[1;33m\u001b[0m\u001b[0m\n\u001b[0m\u001b[0;32m     92\u001b[0m \u001b[1;33m\u001b[0m\u001b[0m\n\u001b[0;32m     93\u001b[0m \u001b[0mmenu_item2\u001b[0m \u001b[1;33m=\u001b[0m \u001b[0mBeverageItem\u001b[0m\u001b[1;33m(\u001b[0m\u001b[1;34m\"Coffee\"\u001b[0m\u001b[1;33m,\u001b[0m \u001b[1;34m\"Freshly brewed coffee\"\u001b[0m\u001b[1;33m,\u001b[0m \u001b[1;36m2.50\u001b[0m\u001b[1;33m,\u001b[0m \u001b[1;34m\"Beverage\"\u001b[0m\u001b[1;33m,\u001b[0m \u001b[1;34m\"Small\"\u001b[0m\u001b[1;33m)\u001b[0m\u001b[1;33m\u001b[0m\u001b[1;33m\u001b[0m\u001b[0m\n",
      "\u001b[1;31mAttributeError\u001b[0m: 'FoodItem' object has no attribute '__set_item_id'"
     ]
    }
   ],
   "source": [
    "class MenuItem:\n",
    "  \"\"\"\n",
    "  This class represents a base menu item with common attributes and methods.\n",
    "  \"\"\"\n",
    "\n",
    "  def __init__(self, name, description, price, category):\n",
    "    \"\"\"\n",
    "    Initializes a MenuItem object with the given details.\n",
    "\n",
    "    Args:\n",
    "      name: The name of the menu item (string).\n",
    "      description: A description of the menu item (string).\n",
    "      price: The price of the menu item (float).\n",
    "      category: The category of the menu item (string, e.g., \"Food\", \"Beverage\").\n",
    "    \"\"\"\n",
    "    self.__item_id = None  # Private attribute for unique ID (assigned during creation)\n",
    "    self.name = name\n",
    "    self.description = description\n",
    "    self.price = price\n",
    "    self.category = category\n",
    "\n",
    "  # Getter methods\n",
    "  def get_item_id(self):\n",
    "    \"\"\"\n",
    "    Returns the unique ID of the menu item (for internal use).\n",
    "    \"\"\"\n",
    "    return self.__item_id\n",
    "\n",
    "  # Setter method (private)\n",
    "  def __set_item_id(self, item_id):\n",
    "    \"\"\"\n",
    "    Sets the unique ID of the menu item (for internal use only).\n",
    "    \"\"\"\n",
    "    self.__item_id = item_id\n",
    "\n",
    "  # Methods for managing menu items\n",
    "  def display_info(self):\n",
    "    \"\"\"\n",
    "    Prints the information about the menu item.\n",
    "    \"\"\"\n",
    "    print(f\"ID: {self.get_item_id()}\")  # Can be displayed for internal purposes\n",
    "    print(f\"Name: {self.name}\")\n",
    "    print(f\"Description: {self.description}\")\n",
    "    print(f\"Price: ${self.price:.2f}\")\n",
    "    print(f\"Category: {self.category}\")\n",
    "\n",
    "\n",
    "class FoodItem(MenuItem):\n",
    "  \"\"\"\n",
    "  This class represents a food item inheriting from MenuItem with additional attributes.\n",
    "  \"\"\"\n",
    "\n",
    "  def __init__(self, name, description, price, category, cuisine):\n",
    "    \"\"\"\n",
    "    Initializes a FoodItem object with food-specific attributes.\n",
    "\n",
    "    Args:\n",
    "      name: The name of the food item (string).\n",
    "      description: A description of the food item (string).\n",
    "      price: The price of the food item (float).\n",
    "      category: The category (inherited from MenuItem, e.g., \"Food\").\n",
    "      cuisine: The cuisine type of the food item (string, e.g., \"Italian\", \"Indian\").\n",
    "    \"\"\"\n",
    "    super().__init__(name, description, price, category)\n",
    "    self.cuisine = cuisine\n",
    "\n",
    "\n",
    "class BeverageItem(MenuItem):\n",
    "  \"\"\"\n",
    "  This class represents a beverage item inheriting from MenuItem with additional attributes.\n",
    "  \"\"\"\n",
    "\n",
    "  def __init__(self, name, description, price, category, size):\n",
    "    \"\"\"\n",
    "    Initializes a BeverageItem object with beverage-specific attributes.\n",
    "\n",
    "    Args:\n",
    "      name: The name of the beverage item (string).\n",
    "      description: A description of the beverage item (string).\n",
    "      price: The price of the beverage item (float).\n",
    "      category: The category (inherited from MenuItem, e.g., \"Beverage\").\n",
    "      size: The size of the beverage (string, e.g., \"Small\", \"Medium\", \"Large\").\n",
    "    \"\"\"\n",
    "    super().__init__(name, description, price, category)\n",
    "    self.size = size\n",
    "\n",
    "\n",
    "# Example usage\n",
    "# Assuming a unique ID generation mechanism exists (not included for simplicity)\n",
    "menu_item1 = FoodItem(\"Pizza Margherita\", \"Classic Italian pizza with tomato sauce and mozzarella cheese\", 12.99, \"Food\", \"Italian\")\n",
    "menu_item1.__set_item_id(1)  # Assigning a sample ID\n",
    "\n",
    "menu_item2 = BeverageItem(\"Coffee\", \"Freshly brewed coffee\", 2.50, \"Beverage\", \"Small\")\n",
    "menu_item2.__set_item_id(2)  # Assigning a sample ID\n",
    "\n",
    "menu_item1.display_info()\n",
    "menu_item2.display_info()\n",
    "\n",
    "# Add, update, and remove menu item functionalities can be implemented similarly\n"
   ]
  },
  {
   "cell_type": "markdown",
   "metadata": {},
   "source": [
    "# Answer 7"
   ]
  },
  {
   "cell_type": "code",
   "execution_count": 41,
   "metadata": {},
   "outputs": [
    {
     "ename": "AttributeError",
     "evalue": "'StandardRoom' object has no attribute '__set_room_id'",
     "output_type": "error",
     "traceback": [
      "\u001b[1;31m---------------------------------------------------------------------------\u001b[0m",
      "\u001b[1;31mAttributeError\u001b[0m                            Traceback (most recent call last)",
      "\u001b[1;32m<ipython-input-41-96f3c1673708>\u001b[0m in \u001b[0;36m<module>\u001b[1;34m\u001b[0m\n\u001b[0;32m    112\u001b[0m \u001b[1;31m# Assuming a unique ID generation mechanism exists (not included for simplicity)\u001b[0m\u001b[1;33m\u001b[0m\u001b[1;33m\u001b[0m\u001b[1;33m\u001b[0m\u001b[0m\n\u001b[0;32m    113\u001b[0m \u001b[0mroom1\u001b[0m \u001b[1;33m=\u001b[0m \u001b[0mStandardRoom\u001b[0m\u001b[1;33m(\u001b[0m\u001b[1;36m101\u001b[0m\u001b[1;33m,\u001b[0m \u001b[1;36m99.99\u001b[0m\u001b[1;33m,\u001b[0m \u001b[1;36m3\u001b[0m\u001b[1;33m)\u001b[0m\u001b[1;33m\u001b[0m\u001b[1;33m\u001b[0m\u001b[0m\n\u001b[1;32m--> 114\u001b[1;33m \u001b[0mroom1\u001b[0m\u001b[1;33m.\u001b[0m\u001b[0m__set_room_id\u001b[0m\u001b[1;33m(\u001b[0m\u001b[1;36m1\u001b[0m\u001b[1;33m)\u001b[0m  \u001b[1;31m# Assigning a sample ID\u001b[0m\u001b[1;33m\u001b[0m\u001b[1;33m\u001b[0m\u001b[0m\n\u001b[0m\u001b[0;32m    115\u001b[0m \u001b[1;33m\u001b[0m\u001b[0m\n\u001b[0;32m    116\u001b[0m \u001b[0mroom2\u001b[0m \u001b[1;33m=\u001b[0m \u001b[0mSuiteRoom\u001b[0m\u001b[1;33m(\u001b[0m\u001b[1;36m202\u001b[0m\u001b[1;33m,\u001b[0m \u001b[1;36m149.99\u001b[0m\u001b[1;33m,\u001b[0m \u001b[1;36m4\u001b[0m\u001b[1;33m)\u001b[0m\u001b[1;33m\u001b[0m\u001b[1;33m\u001b[0m\u001b[0m\n",
      "\u001b[1;31mAttributeError\u001b[0m: 'StandardRoom' object has no attribute '__set_room_id'"
     ]
    }
   ],
   "source": [
    "class Room:\n",
    "  \"\"\"\n",
    "  This class represents a base room in the hotel with common attributes and methods.\n",
    "  \"\"\"\n",
    "\n",
    "  def __init__(self, room_number, room_type, rate):\n",
    "    \"\"\"\n",
    "    Initializes a Room object with the given details.\n",
    "\n",
    "    Args:\n",
    "      room_number: The unique room number (integer).\n",
    "      room_type: The type of room (string, e.g., \"Standard\", \"Suite\").\n",
    "      rate: The nightly rate of the room (float).\n",
    "    \"\"\"\n",
    "    self.__room_id = None  # Private attribute for unique ID (assigned during creation)\n",
    "    self.room_number = room_number\n",
    "    self.room_type = room_type\n",
    "    self.rate = rate\n",
    "    self.__available = True  # Private attribute for availability (initially available)\n",
    "\n",
    "  # Getter methods\n",
    "  def get_room_id(self):\n",
    "    \"\"\"\n",
    "    Returns the unique ID of the room (for internal use).\n",
    "    \"\"\"\n",
    "    return self.__room_id\n",
    "\n",
    "  # Setter method (private)\n",
    "  def __set_room_id(self, room_id):\n",
    "    \"\"\"\n",
    "    Sets the unique ID of the room (for internal use only).\n",
    "    \"\"\"\n",
    "    self.__room_id = room_id\n",
    "\n",
    "  # Methods for managing room bookings\n",
    "  def is_available(self):\n",
    "    \"\"\"\n",
    "    Returns True if the room is available, False otherwise.\n",
    "    \"\"\"\n",
    "    return self.__available\n",
    "\n",
    "  def book_room(self):\n",
    "    \"\"\"\n",
    "    Books the room if it's available.\n",
    "\n",
    "    Returns:\n",
    "      A message indicating success or failure depending on availability.\n",
    "    \"\"\"\n",
    "    if self.__available:\n",
    "      self.__available = False\n",
    "      return f\"Room {self.room_number} ({self.room_type}) has been booked successfully.\"\n",
    "    else:\n",
    "      return f\"Room {self.room_number} ({self.room_type}) is currently unavailable.\"\n",
    "\n",
    "  def check_in(self, guest_name):\n",
    "    \"\"\"\n",
    "    Checks in a guest to the room if it's booked (not available).\n",
    "\n",
    "    Args:\n",
    "      guest_name: The name of the guest checking in (string).\n",
    "\n",
    "    Returns:\n",
    "      A message indicating success or failure depending on availability.\n",
    "    \"\"\"\n",
    "    if not self.__available:\n",
    "      # Simulate check-in process (replace with actual actions)\n",
    "      print(f\"Guest {guest_name} has checked in to room {self.room_number}.\")\n",
    "      return f\"Guest {guest_name} has checked in successfully.\"\n",
    "    else:\n",
    "      return f\"Room {self.room_number} ({self.room_type}) is not booked. Cannot check in guest.\"\n",
    "\n",
    "  def check_out(self):\n",
    "    \"\"\"\n",
    "    Checks out a guest from the room, marking it available.\n",
    "\n",
    "    Returns:\n",
    "      A message indicating successful check-out.\n",
    "    \"\"\"\n",
    "    self.__available = True\n",
    "    # Simulate check-out process (replace with actual actions)\n",
    "    print(f\"Guest has checked out of room {self.room_number}.\")\n",
    "    return f\"Guest has checked out successfully.\"\n",
    "\n",
    "\n",
    "class SuiteRoom(Room):\n",
    "  \"\"\"\n",
    "  This class represents a suite room inheriting from Room with additional attributes.\n",
    "  \"\"\"\n",
    "\n",
    "  def __init__(self, room_number, rate, occupancy):\n",
    "    \"\"\"\n",
    "    Initializes a SuiteRoom object with suite-specific attributes.\n",
    "\n",
    "    Args:\n",
    "      room_number: The unique room number (inherited from Room).\n",
    "      rate: The nightly rate (inherited from Room).\n",
    "      occupancy: The maximum occupancy of the suite (integer).\n",
    "    \"\"\"\n",
    "    super().__init__(room_number, \"Suite\", rate)\n",
    "    self.occupancy = occupancy\n",
    "\n",
    "\n",
    "class StandardRoom(Room):\n",
    "  \"\"\"\n",
    "  This class represents a standard room inheriting from Room.\n",
    "  \"\"\"\n",
    "\n",
    "  pass\n",
    "\n",
    "\n",
    "# Example usage\n",
    "# Assuming a unique ID generation mechanism exists (not included for simplicity)\n",
    "room1 = StandardRoom(101, 99.99, 3)\n",
    "room1.__set_room_id(1)  # Assigning a sample ID\n",
    "\n",
    "room2 = SuiteRoom(202, 149.99, 4)\n",
    "room2.__set_room_id(2)  # Assigning a sample ID\n",
    "\n",
    "print(room1.book_room())  # Success\n",
    "print(room2.book_room())  # Success\n",
    "print(room1.book_room())  # Failure (already booked)\n"
   ]
  },
  {
   "cell_type": "markdown",
   "metadata": {},
   "source": [
    "# Answer 8"
   ]
  },
  {
   "cell_type": "code",
   "execution_count": 42,
   "metadata": {},
   "outputs": [
    {
     "ename": "NameError",
     "evalue": "name 'generate_unique_id' is not defined",
     "output_type": "error",
     "traceback": [
      "\u001b[1;31m---------------------------------------------------------------------------\u001b[0m",
      "\u001b[1;31mNameError\u001b[0m                                 Traceback (most recent call last)",
      "\u001b[1;32m<ipython-input-42-7c21f8eaa834>\u001b[0m in \u001b[0;36m<module>\u001b[1;34m\u001b[0m\n\u001b[0;32m     60\u001b[0m \u001b[1;33m\u001b[0m\u001b[0m\n\u001b[0;32m     61\u001b[0m \u001b[0mmember1\u001b[0m \u001b[1;33m=\u001b[0m \u001b[0mIndividualMember\u001b[0m\u001b[1;33m(\u001b[0m\u001b[1;34m\"John Doe\"\u001b[0m\u001b[1;33m,\u001b[0m \u001b[1;36m30\u001b[0m\u001b[1;33m,\u001b[0m \u001b[1;34m\"Standard\"\u001b[0m\u001b[1;33m,\u001b[0m \u001b[1;34m\"Software Engineer\"\u001b[0m\u001b[1;33m)\u001b[0m\u001b[1;33m\u001b[0m\u001b[1;33m\u001b[0m\u001b[0m\n\u001b[1;32m---> 62\u001b[1;33m \u001b[0mmember1\u001b[0m\u001b[1;33m.\u001b[0m\u001b[0mregister_member\u001b[0m\u001b[1;33m(\u001b[0m\u001b[1;33m)\u001b[0m\u001b[1;33m\u001b[0m\u001b[1;33m\u001b[0m\u001b[0m\n\u001b[0m\u001b[0;32m     63\u001b[0m \u001b[0mmember1\u001b[0m\u001b[1;33m.\u001b[0m\u001b[0mdisplay_info\u001b[0m\u001b[1;33m(\u001b[0m\u001b[1;33m)\u001b[0m\u001b[1;33m\u001b[0m\u001b[1;33m\u001b[0m\u001b[0m\n\u001b[0;32m     64\u001b[0m \u001b[1;33m\u001b[0m\u001b[0m\n",
      "\u001b[1;32m<ipython-input-42-7c21f8eaa834>\u001b[0m in \u001b[0;36mregister_member\u001b[1;34m(self)\u001b[0m\n\u001b[0;32m     20\u001b[0m     \u001b[1;32mdef\u001b[0m \u001b[0mregister_member\u001b[0m\u001b[1;33m(\u001b[0m\u001b[0mself\u001b[0m\u001b[1;33m)\u001b[0m\u001b[1;33m:\u001b[0m\u001b[1;33m\u001b[0m\u001b[1;33m\u001b[0m\u001b[0m\n\u001b[0;32m     21\u001b[0m         \u001b[1;31m# Logic for generating unique member ID\u001b[0m\u001b[1;33m\u001b[0m\u001b[1;33m\u001b[0m\u001b[1;33m\u001b[0m\u001b[0m\n\u001b[1;32m---> 22\u001b[1;33m         \u001b[0mself\u001b[0m\u001b[1;33m.\u001b[0m\u001b[0m__member_id\u001b[0m \u001b[1;33m=\u001b[0m \u001b[0mgenerate_unique_id\u001b[0m\u001b[1;33m(\u001b[0m\u001b[1;33m)\u001b[0m  \u001b[1;31m# Replace with actual ID generation logic\u001b[0m\u001b[1;33m\u001b[0m\u001b[1;33m\u001b[0m\u001b[0m\n\u001b[0m\u001b[0;32m     23\u001b[0m         \u001b[0mself\u001b[0m\u001b[1;33m.\u001b[0m\u001b[0m__membership_status\u001b[0m \u001b[1;33m=\u001b[0m \u001b[1;34m\"Active\"\u001b[0m\u001b[1;33m\u001b[0m\u001b[1;33m\u001b[0m\u001b[0m\n\u001b[0;32m     24\u001b[0m         \u001b[0mprint\u001b[0m\u001b[1;33m(\u001b[0m\u001b[1;34mf\"Member {self.name} registered successfully with ID {self.__member_id}\"\u001b[0m\u001b[1;33m)\u001b[0m\u001b[1;33m\u001b[0m\u001b[1;33m\u001b[0m\u001b[0m\n",
      "\u001b[1;31mNameError\u001b[0m: name 'generate_unique_id' is not defined"
     ]
    }
   ],
   "source": [
    "import datetime\n",
    "\n",
    "class Member:\n",
    "    def __init__(self, name, age, membership_type):\n",
    "        self.__member_id = None  # Unique identifier\n",
    "        self.name = name\n",
    "        self.age = age\n",
    "        self.membership_type = membership_type\n",
    "        self.__membership_status = \"Active\"  # Can be \"Active\", \"Inactive\", or \"Expired\"\n",
    "\n",
    "    def get_member_id(self):\n",
    "        return self.__member_id\n",
    "\n",
    "    def set_member_id(self, member_id):\n",
    "        self.__member_id = member_id\n",
    "\n",
    "    def get_membership_status(self):\n",
    "        return self.__membership_status\n",
    "\n",
    "    def register_member(self):\n",
    "        # Logic for generating unique member ID\n",
    "        self.__member_id = generate_unique_id()  # Replace with actual ID generation logic\n",
    "        self.__membership_status = \"Active\"\n",
    "        print(f\"Member {self.name} registered successfully with ID {self.__member_id}\")\n",
    "\n",
    "    def renew_membership(self):\n",
    "        if self.__membership_status == \"Inactive\" or self.__membership_status == \"Expired\":\n",
    "            self.__membership_status = \"Active\"\n",
    "            # Update membership expiration date\n",
    "            print(f\"Membership renewed for member {self.name}\")\n",
    "        else:\n",
    "            print(f\"Membership for {self.name} is already active.\")\n",
    "\n",
    "    def cancel_membership(self):\n",
    "        self.__membership_status = \"Inactive\"\n",
    "        print(f\"Membership cancelled for member {self.name}\")\n",
    "\n",
    "    def display_info(self):\n",
    "        print(f\"Member ID: {self.__member_id}\")\n",
    "        print(f\"Name: {self.name}\")\n",
    "        print(f\"Age: {self.age}\")\n",
    "        print(f\"Membership Type: {self.membership_type}\")\n",
    "        print(f\"Membership Status: {self.__membership_status}\")\n",
    "\n",
    "\n",
    "class FamilyMember(Member):\n",
    "    def __init__(self, name, age, membership_type, family_head):\n",
    "        super().__init__(name, age, membership_type)\n",
    "        self.family_head = family_head\n",
    "\n",
    "\n",
    "class IndividualMember(Member):\n",
    "    def __init__(self, name, age, membership_type, occupation):\n",
    "        super().__init__(name, age, membership_type)\n",
    "        self.occupation = occupation\n",
    "\n",
    "\n",
    "# Example usage\n",
    "# Assuming a function generate_unique_id() exists to generate unique IDs\n",
    "\n",
    "member1 = IndividualMember(\"John Doe\", 30, \"Standard\", \"Software Engineer\")\n",
    "member1.register_member()\n",
    "member1.display_info()\n",
    "\n",
    "member2 = FamilyMember(\"Alice Johnson\", 35, \"Family\", \"John Doe\")\n",
    "member2.register_member()\n",
    "member2.display_info()\n"
   ]
  },
  {
   "cell_type": "markdown",
   "metadata": {},
   "source": [
    "# Answer 9"
   ]
  },
  {
   "cell_type": "code",
   "execution_count": 1,
   "metadata": {},
   "outputs": [
    {
     "name": "stdout",
     "output_type": "stream",
     "text": [
      "Event: Private Party\n",
      "Date: 2024-07-26\n",
      "Time: 19:00\n",
      "Location: My House\n",
      "Total Attendees: 1\n",
      "Event: Public Concert\n",
      "Date: 2024-07-27\n",
      "Time: 20:00\n",
      "Location: City Park\n",
      "Total Attendees: 0\n"
     ]
    }
   ],
   "source": [
    "import datetime\n",
    "\n",
    "class Event:\n",
    "    def __init__(self, name, date, time, location):\n",
    "        self.__id = generate_unique_id()  # Encapsulated ID\n",
    "        self.name = name\n",
    "        self.date = date\n",
    "        self.time = time\n",
    "        self.location = location\n",
    "        self.__attendees = []\n",
    "\n",
    "    def add_attendee(self, attendee):\n",
    "        self.__attendees.append(attendee)\n",
    "\n",
    "    def remove_attendee(self, attendee):\n",
    "        if attendee in self.__attendees:\n",
    "            self.__attendees.remove(attendee)\n",
    "\n",
    "    def get_total_attendees(self):\n",
    "        return len(self.__attendees)\n",
    "\n",
    "    def get_event_details(self):\n",
    "        return f\"Event: {self.name}\\nDate: {self.date}\\nTime: {self.time}\\nLocation: {self.location}\\nTotal Attendees: {self.get_total_attendees()}\"\n",
    "\n",
    "def generate_unique_id():\n",
    "    # Replace with a more robust ID generation method\n",
    "    import random\n",
    "    return random.randint(1000, 9999)\n",
    "\n",
    "class PrivateEvent(Event):\n",
    "    def __init__(self, name, date, time, location, invitation_list):\n",
    "        super().__init__(name, date, time, location)\n",
    "        self.invitation_list = invitation_list\n",
    "\n",
    "    def is_invited(self, attendee):\n",
    "        return attendee in self.invitation_list\n",
    "\n",
    "class PublicEvent(Event):\n",
    "    def __init__(self, name, date, time, location, registration_fee):\n",
    "        super().__init__(name, date, time, location)\n",
    "        self.registration_fee = registration_fee\n",
    "\n",
    "# Example usage:\n",
    "event1 = PrivateEvent(\"Private Party\", datetime.date(2024, 7, 26), \"19:00\", \"My House\", [\"Alice\", \"Bob\"])\n",
    "event1.add_attendee(\"Charlie\")  # This will not be added as Charlie is not invited\n",
    "print(event1.get_event_details())\n",
    "\n",
    "event2 = PublicEvent(\"Public Concert\", datetime.date(2024, 7, 27), \"20:00\", \"City Park\", 100)\n",
    "event2.add_attendee(\"David\")\n",
    "event2.remove_attendee(\"David\")\n",
    "print(event2.get_event_details())\n"
   ]
  },
  {
   "cell_type": "markdown",
   "metadata": {},
   "source": [
    "# Answer 10"
   ]
  },
  {
   "cell_type": "code",
   "execution_count": 2,
   "metadata": {},
   "outputs": [
    {
     "name": "stdout",
     "output_type": "stream",
     "text": [
      "Seat booked successfully.\n",
      "199\n",
      "Invalid reservation ID.\n",
      "199\n"
     ]
    }
   ],
   "source": [
    "import uuid\n",
    "\n",
    "class Flight:\n",
    "    def __init__(self, flight_number, departure_airport, arrival_airport, departure_time, arrival_time, total_seats):\n",
    "        self.__flight_id = str(uuid.uuid4())  # Encapsulated flight ID\n",
    "        self.flight_number = flight_number\n",
    "        self.departure_airport = departure_airport\n",
    "        self.arrival_airport = arrival_airport\n",
    "        self.departure_time = departure_time\n",
    "        self.arrival_time = arrival_time\n",
    "        self.__available_seats = total_seats\n",
    "        self.__reservations = set()\n",
    "\n",
    "    def book_seat(self):\n",
    "        if self.__available_seats > 0:\n",
    "            self.__reservations.add(str(uuid.uuid4()))  # Generate unique reservation ID\n",
    "            self.__available_seats -= 1\n",
    "            print(\"Seat booked successfully.\")\n",
    "        else:\n",
    "            print(\"Sorry, flight is full.\")\n",
    "\n",
    "    def cancel_reservation(self, reservation_id):\n",
    "        if reservation_id in self.__reservations:\n",
    "            self.__reservations.remove(reservation_id)\n",
    "            self.__available_seats += 1\n",
    "            print(\"Reservation canceled successfully.\")\n",
    "        else:\n",
    "            print(\"Invalid reservation ID.\")\n",
    "\n",
    "    def get_available_seats(self):\n",
    "        return self.__available_seats\n",
    "\n",
    "class DomesticFlight(Flight):\n",
    "    def __init__(self, flight_number, departure_airport, arrival_airport, departure_time, arrival_time, total_seats, baggage_allowance):\n",
    "        super().__init__(flight_number, departure_airport, arrival_airport, departure_time, arrival_time, total_seats)\n",
    "        self.baggage_allowance = baggage_allowance\n",
    "\n",
    "class InternationalFlight(Flight):\n",
    "    def __init__(self, flight_number, departure_airport, arrival_airport, departure_time, arrival_time, total_seats, visa_required):\n",
    "        super().__init__(flight_number, departure_airport, arrival_airport, departure_time, arrival_time, total_seats)\n",
    "        self.visa_required = visa_required\n",
    "\n",
    "# Example usage:\n",
    "flight1 = DomesticFlight(\"AI123\", \"Delhi\", \"Mumbai\", \"10:00\", \"12:00\", 200, 25)\n",
    "flight1.book_seat()\n",
    "print(flight1.get_available_seats())  # Output: 199\n",
    "flight1.cancel_reservation(\"some_reservation_id\")\n",
    "print(flight1.get_available_seats())  # Output: 200\n"
   ]
  },
  {
   "cell_type": "markdown",
   "metadata": {},
   "source": [
    "# Answer 11"
   ]
  },
  {
   "cell_type": "code",
   "execution_count": 3,
   "metadata": {},
   "outputs": [],
   "source": [
    "PI = 3.14159  # Commonly used approximation of pi\n",
    "\n",
    "SPEED_OF_LIGHT = 299792458  # Speed of light in meters per second (m/s)\n",
    "\n",
    "# You can add more constants here, following the naming convention (uppercase)\n",
    "GRAVITATIONAL_CONSTANT = 6.6743e-11  # Gravitational constant\n",
    "AVOGADRO_CONSTANT = 6.0221408e23  # Avogadro's constant\n"
   ]
  },
  {
   "cell_type": "markdown",
   "metadata": {},
   "source": [
    "# Answer 12"
   ]
  },
  {
   "cell_type": "code",
   "execution_count": 4,
   "metadata": {},
   "outputs": [
    {
     "name": "stdout",
     "output_type": "stream",
     "text": [
      "10 + 5 = 15\n",
      "10 - 5 = 5\n",
      "10 * 5 = 50\n",
      "10 / 5 = 2.0\n"
     ]
    }
   ],
   "source": [
    "def add(x, y):\n",
    "  \"\"\"Adds two numbers together and returns the result.\n",
    "\n",
    "  Args:\n",
    "      x: The first number.\n",
    "      y: The second number.\n",
    "\n",
    "  Returns:\n",
    "      The sum of x and y.\n",
    "  \"\"\"\n",
    "  return x + y\n",
    "\n",
    "def subtract(x, y):\n",
    "  \"\"\"Subtracts one number from another and returns the result.\n",
    "\n",
    "  Args:\n",
    "      x: The first number (minuend).\n",
    "      y: The second number (subtrahend).\n",
    "\n",
    "  Returns:\n",
    "      The difference of x and y (x - y).\n",
    "  \"\"\"\n",
    "  return x - y\n",
    "\n",
    "def multiply(x, y):\n",
    "  \"\"\"Multiplies two numbers together and returns the result.\n",
    "\n",
    "  Args:\n",
    "      x: The first number.\n",
    "      y: The second number.\n",
    "\n",
    "  Returns:\n",
    "      The product of x and y (x * y).\n",
    "  \"\"\"\n",
    "  return x * y\n",
    "\n",
    "def divide(x, y):\n",
    "  \"\"\"Divides one number by another and returns the result.\n",
    "\n",
    "  Args:\n",
    "      x: The numerator (dividend).\n",
    "      y: The denominator (divisor).\n",
    "\n",
    "  Returns:\n",
    "      The quotient of x and y (x / y).\n",
    "\n",
    "  Raises:\n",
    "      ZeroDivisionError: If y (the divisor) is zero.\n",
    "  \"\"\"\n",
    "  if y == 0:\n",
    "    raise ZeroDivisionError(\"Division by zero is not allowed.\")\n",
    "  return x / y\n",
    "\n",
    "# Example usage (optional, not part of the module itself)\n",
    "if __name__ == \"__main__\":\n",
    "  num1 = 10\n",
    "  num2 = 5\n",
    "  print(f\"{num1} + {num2} = {add(num1, num2)}\")\n",
    "  print(f\"{num1} - {num2} = {subtract(num1, num2)}\")\n",
    "  print(f\"{num1} * {num2} = {multiply(num1, num2)}\")\n",
    "  print(f\"{num1} / {num2} = {divide(num1, num2)}\")\n"
   ]
  },
  {
   "cell_type": "markdown",
   "metadata": {},
   "source": [
    "# Answer 13"
   ]
  },
  {
   "cell_type": "code",
   "execution_count": 5,
   "metadata": {},
   "outputs": [],
   "source": [
    "# Implementing modules (Example)\n",
    "# ecommerce/product_management/product.py\n",
    "class Product:\n",
    "    def __init__(self, product_id, name, price, description):\n",
    "        self.product_id = product_id\n",
    "        self.name = name\n",
    "        self.price = price\n",
    "        self.description = description\n",
    "\n",
    "# ecommerce/order_processing/order.py\n",
    "class Order:\n",
    "    def __init__(self, order_id, customer, items):\n",
    "        self.order_id = order_id\n",
    "        self.customer = customer\n",
    "        self.items = items\n"
   ]
  },
  {
   "cell_type": "code",
   "execution_count": 7,
   "metadata": {},
   "outputs": [
    {
     "ename": "ModuleNotFoundError",
     "evalue": "No module named 'ecommerce'",
     "output_type": "error",
     "traceback": [
      "\u001b[1;31m---------------------------------------------------------------------------\u001b[0m",
      "\u001b[1;31mModuleNotFoundError\u001b[0m                       Traceback (most recent call last)",
      "\u001b[1;32m<ipython-input-7-0857ecb6bee5>\u001b[0m in \u001b[0;36m<module>\u001b[1;34m\u001b[0m\n\u001b[0;32m      1\u001b[0m \u001b[1;31m# Using the package\u001b[0m\u001b[1;33m\u001b[0m\u001b[1;33m\u001b[0m\u001b[1;33m\u001b[0m\u001b[0m\n\u001b[1;32m----> 2\u001b[1;33m \u001b[1;32mimport\u001b[0m \u001b[0mecommerce\u001b[0m\u001b[1;33m.\u001b[0m\u001b[0mproduct_management\u001b[0m\u001b[1;33m.\u001b[0m\u001b[0mproduct\u001b[0m \u001b[1;32mas\u001b[0m \u001b[0mproduct\u001b[0m\u001b[1;33m\u001b[0m\u001b[1;33m\u001b[0m\u001b[0m\n\u001b[0m\u001b[0;32m      3\u001b[0m \u001b[1;32mimport\u001b[0m \u001b[0mecommerce\u001b[0m\u001b[1;33m.\u001b[0m\u001b[0morder_processing\u001b[0m\u001b[1;33m.\u001b[0m\u001b[0morder\u001b[0m \u001b[1;32mas\u001b[0m \u001b[0morder\u001b[0m\u001b[1;33m\u001b[0m\u001b[1;33m\u001b[0m\u001b[0m\n\u001b[0;32m      4\u001b[0m \u001b[1;33m\u001b[0m\u001b[0m\n\u001b[0;32m      5\u001b[0m \u001b[0mproduct1\u001b[0m \u001b[1;33m=\u001b[0m \u001b[0mproduct\u001b[0m\u001b[1;33m.\u001b[0m\u001b[0mProduct\u001b[0m\u001b[1;33m(\u001b[0m\u001b[1;36m1\u001b[0m\u001b[1;33m,\u001b[0m \u001b[1;34m\"Laptop\"\u001b[0m\u001b[1;33m,\u001b[0m \u001b[1;36m1000\u001b[0m\u001b[1;33m,\u001b[0m \u001b[1;34m\"A powerful laptop\"\u001b[0m\u001b[1;33m)\u001b[0m\u001b[1;33m\u001b[0m\u001b[1;33m\u001b[0m\u001b[0m\n",
      "\u001b[1;31mModuleNotFoundError\u001b[0m: No module named 'ecommerce'"
     ]
    }
   ],
   "source": [
    "# Using the package\n",
    "import ecommerce.product_management.product as product\n",
    "import ecommerce.order_processing.order as order\n",
    "\n",
    "product1 = product.Product(1, \"Laptop\", 1000, \"A powerful laptop\")\n",
    "order1 = order.Order(1001, \"John Doe\", [product1])\n"
   ]
  },
  {
   "cell_type": "markdown",
   "metadata": {},
   "source": [
    "# Answer 14\n"
   ]
  },
  {
   "cell_type": "code",
   "execution_count": 8,
   "metadata": {},
   "outputs": [
    {
     "name": "stdout",
     "output_type": "stream",
     "text": [
      "Reversed: !dlrow ,olleH\n",
      "Capitalized: Hello, world!\n",
      "Is palindrome: False\n",
      "Is palindrome (madam): True\n",
      "Number of vowels: 3\n"
     ]
    }
   ],
   "source": [
    "# Python module named string_utils.py containing functions for string manipulation:\n",
    "def reverse_string(text):\n",
    "  \"\"\"Reverses the order of characters in a string.\n",
    "\n",
    "  Args:\n",
    "      text: The string to be reversed.\n",
    "\n",
    "  Returns:\n",
    "      The reversed string.\n",
    "  \"\"\"\n",
    "  return text[::-1]\n",
    "\n",
    "def capitalize_first(text):\n",
    "  \"\"\"Capitalizes the first letter of a string and returns the result.\n",
    "\n",
    "  Args:\n",
    "      text: The string to be capitalized.\n",
    "\n",
    "  Returns:\n",
    "      The string with the first letter capitalized.\n",
    "  \"\"\"\n",
    "  return text.capitalize()\n",
    "\n",
    "def is_palindrome(text):\n",
    "  \"\"\"Checks if a string is a palindrome (reads the same backward as forward).\n",
    "\n",
    "  Args:\n",
    "      text: The string to be checked.\n",
    "\n",
    "  Returns:\n",
    "      True if the string is a palindrome, False otherwise.\n",
    "  \"\"\"\n",
    "  text = text.lower().replace(\" \", \"\")  # Remove spaces and convert to lowercase for case-insensitive check\n",
    "  return text == text[::-1]\n",
    "\n",
    "def count_vowels(text):\n",
    "  \"\"\"Counts the number of vowels (a, e, i, o, u) in a string.\n",
    "\n",
    "  Args:\n",
    "      text: The string to count vowels in.\n",
    "\n",
    "  Returns:\n",
    "      The number of vowels found.\n",
    "  \"\"\"\n",
    "  vowels = \"aeiou\"\n",
    "  count = 0\n",
    "  for char in text.lower():\n",
    "    if char in vowels:\n",
    "      count += 1\n",
    "  return count\n",
    "\n",
    "# You can add more string manipulation functions here\n",
    "\n",
    "if __name__ == \"__main__\":\n",
    "  # Example usage (optional, not part of the module itself)\n",
    "  text = \"Hello, world!\"\n",
    "  print(f\"Reversed: {reverse_string(text)}\")\n",
    "  print(f\"Capitalized: {capitalize_first(text)}\")\n",
    "  print(f\"Is palindrome: {is_palindrome(text)}\")  # False\n",
    "  print(f\"Is palindrome (madam): {is_palindrome('madam')}\")  # True\n",
    "  print(f\"Number of vowels: {count_vowels(text)}\")\n"
   ]
  },
  {
   "cell_type": "code",
   "execution_count": 9,
   "metadata": {},
   "outputs": [
    {
     "ename": "ModuleNotFoundError",
     "evalue": "No module named 'string_utils'",
     "output_type": "error",
     "traceback": [
      "\u001b[1;31m---------------------------------------------------------------------------\u001b[0m",
      "\u001b[1;31mModuleNotFoundError\u001b[0m                       Traceback (most recent call last)",
      "\u001b[1;32m<ipython-input-9-a2d8cb1f497f>\u001b[0m in \u001b[0;36m<module>\u001b[1;34m\u001b[0m\n\u001b[0;32m      1\u001b[0m \u001b[1;31m# Usage\u001b[0m\u001b[1;33m\u001b[0m\u001b[1;33m\u001b[0m\u001b[1;33m\u001b[0m\u001b[0m\n\u001b[1;32m----> 2\u001b[1;33m \u001b[1;32mimport\u001b[0m \u001b[0mstring_utils\u001b[0m\u001b[1;33m\u001b[0m\u001b[1;33m\u001b[0m\u001b[0m\n\u001b[0m\u001b[0;32m      3\u001b[0m \u001b[1;33m\u001b[0m\u001b[0m\n\u001b[0;32m      4\u001b[0m \u001b[0mresult\u001b[0m \u001b[1;33m=\u001b[0m \u001b[0mstring_utils\u001b[0m\u001b[1;33m.\u001b[0m\u001b[0mreverse_string\u001b[0m\u001b[1;33m(\u001b[0m\u001b[1;34m\"Python\"\u001b[0m\u001b[1;33m)\u001b[0m\u001b[1;33m\u001b[0m\u001b[1;33m\u001b[0m\u001b[0m\n\u001b[0;32m      5\u001b[0m \u001b[0mprint\u001b[0m\u001b[1;33m(\u001b[0m\u001b[0mresult\u001b[0m\u001b[1;33m)\u001b[0m  \u001b[1;31m# Output: nohtyP\u001b[0m\u001b[1;33m\u001b[0m\u001b[1;33m\u001b[0m\u001b[0m\n",
      "\u001b[1;31mModuleNotFoundError\u001b[0m: No module named 'string_utils'"
     ]
    }
   ],
   "source": [
    "# Usage\n",
    "import string_utils\n",
    "\n",
    "result = string_utils.reverse_string(\"Python\")\n",
    "print(result)  # Output: nohtyP\n"
   ]
  },
  {
   "cell_type": "markdown",
   "metadata": {},
   "source": [
    "# Answer 15"
   ]
  },
  {
   "cell_type": "code",
   "execution_count": 1,
   "metadata": {},
   "outputs": [
    {
     "name": "stdout",
     "output_type": "stream",
     "text": [
      "Successfully wrote data to test.txt\n",
      "Read data from test.txt:\n",
      "This is some data to write to a file.\n",
      "\n",
      "Successfully appended data to test.txt\n"
     ]
    }
   ],
   "source": [
    "# Python module named file_operations.py with functions for reading, writing, and appending data to a file:\n",
    "def read_file(filename):\n",
    "  \"\"\"Reads the contents of a file and returns them as a string.\n",
    "\n",
    "  Args:\n",
    "      filename: The path to the file to read.\n",
    "\n",
    "  Returns:\n",
    "      The contents of the file as a string, or None if an error occurs.\n",
    "  \"\"\"\n",
    "  try:\n",
    "    with open(filename, 'r') as file:\n",
    "      return file.read()\n",
    "  except FileNotFoundError:\n",
    "    print(f\"Error: File '{filename}' not found.\")\n",
    "    return None\n",
    "\n",
    "def write_file(filename, data):\n",
    "  \"\"\"Writes data to a file, overwriting existing content.\n",
    "\n",
    "  Args:\n",
    "      filename: The path to the file to write to.\n",
    "      data: The data to write to the file (string).\n",
    "\n",
    "  Returns:\n",
    "      True on success, False if an error occurs.\n",
    "  \"\"\"\n",
    "  try:\n",
    "    with open(filename, 'w') as file:\n",
    "      file.write(data)\n",
    "    return True\n",
    "  except Exception as e:\n",
    "    print(f\"Error writing to file: {e}\")\n",
    "    return False\n",
    "\n",
    "def append_to_file(filename, data):\n",
    "  \"\"\"Appends data to a file without overwriting existing content.\n",
    "\n",
    "  Args:\n",
    "      filename: The path to the file to append to.\n",
    "      data: The data to append to the file (string).\n",
    "\n",
    "  Returns:\n",
    "      True on success, False if an error occurs.\n",
    "  \"\"\"\n",
    "  try:\n",
    "    with open(filename, 'a') as file:\n",
    "      file.write(data)\n",
    "    return True\n",
    "  except Exception as e:\n",
    "    print(f\"Error appending to file: {e}\")\n",
    "    return False\n",
    "\n",
    "# You can add more file operation functions here (e.g., read lines, copy files)\n",
    "\n",
    "if __name__ == \"__main__\":\n",
    "  # Example usage (optional, not part of the module itself)\n",
    "  data = \"This is some data to write to a file.\\n\"\n",
    "  filename = \"test.txt\"\n",
    "\n",
    "  # Write data\n",
    "  if write_file(filename, data):\n",
    "    print(f\"Successfully wrote data to {filename}\")\n",
    "\n",
    "  # Read data\n",
    "  read_data = read_file(filename)\n",
    "  if read_data:\n",
    "    print(f\"Read data from {filename}:\\n{read_data}\")\n",
    "\n",
    "  # Append data\n",
    "  append_data = \"\\nThis is some data to append.\"\n",
    "  if append_to_file(filename, append_data):\n",
    "    print(f\"Successfully appended data to {filename}\")\n"
   ]
  },
  {
   "cell_type": "code",
   "execution_count": 2,
   "metadata": {},
   "outputs": [
    {
     "ename": "ModuleNotFoundError",
     "evalue": "No module named 'file_operations'",
     "output_type": "error",
     "traceback": [
      "\u001b[1;31m---------------------------------------------------------------------------\u001b[0m",
      "\u001b[1;31mModuleNotFoundError\u001b[0m                       Traceback (most recent call last)",
      "\u001b[1;32m<ipython-input-2-4bddca0f5773>\u001b[0m in \u001b[0;36m<module>\u001b[1;34m\u001b[0m\n\u001b[0;32m      1\u001b[0m \u001b[1;31m# Usage:\u001b[0m\u001b[1;33m\u001b[0m\u001b[1;33m\u001b[0m\u001b[1;33m\u001b[0m\u001b[0m\n\u001b[1;32m----> 2\u001b[1;33m \u001b[1;32mimport\u001b[0m \u001b[0mfile_operations\u001b[0m\u001b[1;33m\u001b[0m\u001b[1;33m\u001b[0m\u001b[0m\n\u001b[0m\u001b[0;32m      3\u001b[0m \u001b[1;33m\u001b[0m\u001b[0m\n\u001b[0;32m      4\u001b[0m \u001b[0mdata_to_write\u001b[0m \u001b[1;33m=\u001b[0m \u001b[1;34m\"New content for the file\\n\"\u001b[0m\u001b[1;33m\u001b[0m\u001b[1;33m\u001b[0m\u001b[0m\n\u001b[0;32m      5\u001b[0m \u001b[0mfilename\u001b[0m \u001b[1;33m=\u001b[0m \u001b[1;34m\"my_data.txt\"\u001b[0m\u001b[1;33m\u001b[0m\u001b[1;33m\u001b[0m\u001b[0m\n",
      "\u001b[1;31mModuleNotFoundError\u001b[0m: No module named 'file_operations'"
     ]
    }
   ],
   "source": [
    "# Usage:\n",
    "import file_operations\n",
    "\n",
    "data_to_write = \"New content for the file\\n\"\n",
    "filename = \"my_data.txt\"\n",
    "\n",
    "if file_operations.write_file(filename, data_to_write):\n",
    "  print(f\"Data written to {filename}\")\n"
   ]
  },
  {
   "cell_type": "markdown",
   "metadata": {},
   "source": [
    "# Answer 16"
   ]
  },
  {
   "cell_type": "code",
   "execution_count": 3,
   "metadata": {},
   "outputs": [
    {
     "name": "stdout",
     "output_type": "stream",
     "text": [
      "Employee details written to employees.txt\n"
     ]
    }
   ],
   "source": [
    "def write_employee_details(filename):\n",
    "  \"\"\"Writes employee details to a text file.\n",
    "\n",
    "  Args:\n",
    "      filename: The name of the file to write to.\n",
    "  \"\"\"\n",
    "\n",
    "  employees = [\n",
    "      {\"name\": \"Alice\", \"age\": 30, \"salary\": 50000},\n",
    "      {\"name\": \"Bob\", \"age\": 25, \"salary\": 45000},\n",
    "      {\"name\": \"Charlie\", \"age\": 35, \"salary\": 60000}\n",
    "  ]\n",
    "\n",
    "  try:\n",
    "    with open(filename, \"w\") as file:\n",
    "      for employee in employees:\n",
    "        line = f\"{employee['name']},{employee['age']},{employee['salary']}\\n\"\n",
    "        file.write(line)\n",
    "    print(f\"Employee details written to {filename}\")\n",
    "  except Exception as e:\n",
    "    print(f\"Error writing to file: {e}\")\n",
    "\n",
    "if __name__ == \"__main__\":\n",
    "  filename = \"employees.txt\"\n",
    "  write_employee_details(filename)\n"
   ]
  },
  {
   "cell_type": "markdown",
   "metadata": {},
   "source": [
    "# Answer 17"
   ]
  },
  {
   "cell_type": "code",
   "execution_count": 4,
   "metadata": {},
   "outputs": [
    {
     "name": "stdout",
     "output_type": "stream",
     "text": [
      "Error: File 'inventory.txt' not found.\n"
     ]
    }
   ],
   "source": [
    "def read_inventory(filename):\n",
    "  \"\"\"Reads the contents of an inventory file line by line.\n",
    "\n",
    "  Args:\n",
    "      filename: The name of the inventory file.\n",
    "  \"\"\"\n",
    "\n",
    "  try:\n",
    "    with open(filename, \"r\") as file:\n",
    "      for line in file:\n",
    "        print(line.strip())\n",
    "  except FileNotFoundError:\n",
    "    print(f\"Error: File '{filename}' not found.\")\n",
    "  except Exception as e:\n",
    "    print(f\"An error occurred: {e}\")\n",
    "\n",
    "if __name__ == \"__main__\":\n",
    "  inventory_file = \"inventory.txt\"\n",
    "  read_inventory(inventory_file)\n"
   ]
  },
  {
   "cell_type": "markdown",
   "metadata": {},
   "source": [
    "# Answer 18"
   ]
  },
  {
   "cell_type": "code",
   "execution_count": 5,
   "metadata": {},
   "outputs": [
    {
     "name": "stdout",
     "output_type": "stream",
     "text": [
      "Error: File 'expenses.txt' not found.\n",
      "Total expenses: 0\n"
     ]
    }
   ],
   "source": [
    "def calculate_total_expenses(filename):\n",
    "  \"\"\"Calculates the total expenses from a text file.\n",
    "\n",
    "  Args:\n",
    "      filename: The name of the expenses file.\n",
    "\n",
    "  Returns:\n",
    "      The total amount spent.\n",
    "  \"\"\"\n",
    "\n",
    "  total_expenses = 0\n",
    "  try:\n",
    "    with open(filename, \"r\") as file:\n",
    "      for line in file:\n",
    "        try:\n",
    "          amount = float(line.strip())\n",
    "          total_expenses += amount\n",
    "        except ValueError:\n",
    "          print(f\"Invalid amount: {line.strip()}\")\n",
    "  except FileNotFoundError:\n",
    "    print(f\"Error: File '{filename}' not found.\")\n",
    "  except Exception as e:\n",
    "    print(f\"An error occurred: {e}\")\n",
    "\n",
    "  return total_expenses\n",
    "\n",
    "if __name__ == \"__main__\":\n",
    "  expenses_file = \"expenses.txt\"\n",
    "  total_amount = calculate_total_expenses(expenses_file)\n",
    "  print(\"Total expenses:\", total_amount)\n"
   ]
  },
  {
   "cell_type": "markdown",
   "metadata": {},
   "source": [
    "# Answer 19"
   ]
  },
  {
   "cell_type": "code",
   "execution_count": 6,
   "metadata": {},
   "outputs": [
    {
     "name": "stdout",
     "output_type": "stream",
     "text": [
      "Error: File 'paragraph.txt' not found.\n"
     ]
    }
   ],
   "source": [
    "import string\n",
    "\n",
    "def count_word_occurrences(filename):\n",
    "  \"\"\"Counts the occurrences of each word in a text file.\n",
    "\n",
    "  Args:\n",
    "      filename: The name of the text file.\n",
    "  \"\"\"\n",
    "\n",
    "  word_counts = {}\n",
    "  try:\n",
    "    with open(filename, \"r\") as file:\n",
    "      for line in file:\n",
    "        words = line.strip().split()\n",
    "        for word in words:\n",
    "          word = word.strip(string.punctuation).lower()\n",
    "          if word:\n",
    "            word_counts[word] = word_counts.get(word, 0) + 1\n",
    "\n",
    "    # Sort the word counts by word in alphabetical order\n",
    "    sorted_word_counts = sorted(word_counts.items())\n",
    "\n",
    "    for word, count in sorted_word_counts:\n",
    "      print(f\"{word}: {count}\")\n",
    "\n",
    "  except FileNotFoundError:\n",
    "    print(f\"Error: File '{filename}' not found.\")\n",
    "  except Exception as e:\n",
    "    print(f\"An error occurred: {e}\")\n",
    "\n",
    "if __name__ == \"__main__\":\n",
    "  filename = \"paragraph.txt\"\n",
    "  count_word_occurrences(filename)\n"
   ]
  },
  {
   "cell_type": "markdown",
   "metadata": {},
   "source": [
    "# Answer 24"
   ]
  },
  {
   "cell_type": "code",
   "execution_count": 7,
   "metadata": {},
   "outputs": [
    {
     "name": "stdout",
     "output_type": "stream",
     "text": [
      "The value of r is: 1.8700657736494377\n"
     ]
    }
   ],
   "source": [
    "import math\n",
    "\n",
    "# Given values\n",
    "n = 10\n",
    "sum_x = 600\n",
    "sum_y = 640\n",
    "sum_xy = 46525\n",
    "sum_x2 = 40300\n",
    "sum_y2 = 45350\n",
    "\n",
    "# Calculate the numerator and denominator separately\n",
    "numerator = (n * sum_xy - sum_x * sum_y)\n",
    "denominator = math.sqrt((n * sum_x2 - sum_x ** 2) * (n * sum_y2 - sum_y ** 2))\n",
    "\n",
    "# Calculate r\n",
    "r = numerator / denominator\n",
    "\n",
    "# Print the result\n",
    "print(f\"The value of r is: {r}\")\n"
   ]
  },
  {
   "cell_type": "markdown",
   "metadata": {},
   "source": [
    "# Answer 24"
   ]
  },
  {
   "cell_type": "code",
   "execution_count": 1,
   "metadata": {},
   "outputs": [
    {
     "name": "stdout",
     "output_type": "stream",
     "text": [
      "The Pearson correlation coefficient is: 0.9031178882610624\n"
     ]
    }
   ],
   "source": [
    "import math\n",
    "\n",
    "# Given data\n",
    "accountancy = [45, 70, 65, 30, 90, 40, 50, 75, 85, 60]\n",
    "statistics = [35, 90, 70, 40, 95, 40, 60, 80, 80, 50]\n",
    "\n",
    "# Number of students\n",
    "n = len(accountancy)\n",
    "\n",
    "# Calculate the sums\n",
    "sum_x = sum(accountancy)\n",
    "sum_y = sum(statistics)\n",
    "sum_xy = sum(x * y for x, y in zip(accountancy, statistics))\n",
    "sum_x2 = sum(x ** 2 for x in accountancy)\n",
    "sum_y2 = sum(y ** 2 for y in statistics)\n",
    "\n",
    "# Calculate the Pearson correlation coefficient\n",
    "numerator = n * sum_xy - sum_x * sum_y\n",
    "denominator = math.sqrt((n * sum_x2 - sum_x ** 2) * (n * sum_y2 - sum_y ** 2))\n",
    "r = numerator / denominator\n",
    "\n",
    "# Print the result\n",
    "print(f\"The Pearson correlation coefficient is: {r}\")\n"
   ]
  },
  {
   "cell_type": "markdown",
   "metadata": {},
   "source": [
    "# Answer 38"
   ]
  },
  {
   "cell_type": "code",
   "execution_count": 3,
   "metadata": {},
   "outputs": [
    {
     "data": {
      "text/plain": [
       "{'Grand Mean': 56.22222222222222,\n",
       " 'Row Means': [59.666666666666664, 56.333333333333336, 52.666666666666664],\n",
       " 'Column Means': [53.333333333333336, 51.0, 64.33333333333333],\n",
       " 'Total Sum of Squares (SST)': 439.55555555555554,\n",
       " 'Sum of Squares for Rows (SSR)': 73.55555555555556,\n",
       " 'Sum of Squares for Columns (SSC)': 304.22222222222194,\n",
       " 'Error Sum of Squares (SSE)': 61.777777777778056,\n",
       " 'Degrees of Freedom for Rows (DFR)': 2,\n",
       " 'Degrees of Freedom for Columns (DFC)': 2,\n",
       " 'Degrees of Freedom for Error (DFE)': 4,\n",
       " 'Mean Square for Rows (MSR)': 36.77777777777778,\n",
       " 'Mean Square for Columns (MSC)': 152.11111111111097,\n",
       " 'Mean Square for Error (MSE)': 15.444444444444514,\n",
       " 'F-ratio for Rows': 2.381294964028766,\n",
       " 'F-ratio for Columns': 9.8489208633093,\n",
       " 'P-value for Rows': 0.2083795071734609,\n",
       " 'P-value for Columns': 0.028490652357195854}"
      ]
     },
     "execution_count": 3,
     "metadata": {},
     "output_type": "execute_result"
    }
   ],
   "source": [
    "import numpy as np\n",
    "import scipy.stats as stats\n",
    "\n",
    "# Data\n",
    "data = np.array([\n",
    "    [57, 55, 67],\n",
    "    [49, 52, 68],\n",
    "    [54, 46, 58]\n",
    "])\n",
    "\n",
    "# Number of levels\n",
    "n_rows, n_cols = data.shape\n",
    "\n",
    "# Grand mean\n",
    "grand_mean = np.mean(data)\n",
    "\n",
    "# Row means\n",
    "row_means = np.mean(data, axis=1)\n",
    "\n",
    "# Column means\n",
    "col_means = np.mean(data, axis=0)\n",
    "\n",
    "# Total Sum of Squares (SST)\n",
    "sst = np.sum((data - grand_mean) ** 2)\n",
    "\n",
    "# Sum of Squares for Rows (SSR)\n",
    "ssr = n_cols * np.sum((row_means - grand_mean) ** 2)\n",
    "\n",
    "# Sum of Squares for Columns (SSC)\n",
    "ssc = n_rows * np.sum((col_means - grand_mean) ** 2)\n",
    "\n",
    "# Error Sum of Squares (SSE)\n",
    "sse = sst - ssr - ssc\n",
    "\n",
    "# Degrees of Freedom\n",
    "dfr = n_rows - 1\n",
    "dfc = n_cols - 1\n",
    "dfe = dfr * dfc\n",
    "\n",
    "# Mean Squares\n",
    "msr = ssr / dfr\n",
    "msc = ssc / dfc\n",
    "mse = sse / dfe\n",
    "\n",
    "# F-ratios\n",
    "f_row = msr / mse\n",
    "f_col = msc / mse\n",
    "\n",
    "# P-values\n",
    "p_row = stats.f.sf(f_row, dfr, dfe)\n",
    "p_col = stats.f.sf(f_col, dfc, dfe)\n",
    "\n",
    "{\n",
    "    \"Grand Mean\": grand_mean,\n",
    "    \"Row Means\": row_means.tolist(),\n",
    "    \"Column Means\": col_means.tolist(),\n",
    "    \"Total Sum of Squares (SST)\": sst,\n",
    "    \"Sum of Squares for Rows (SSR)\": ssr,\n",
    "    \"Sum of Squares for Columns (SSC)\": ssc,\n",
    "    \"Error Sum of Squares (SSE)\": sse,\n",
    "    \"Degrees of Freedom for Rows (DFR)\": dfr,\n",
    "    \"Degrees of Freedom for Columns (DFC)\": dfc,\n",
    "    \"Degrees of Freedom for Error (DFE)\": dfe,\n",
    "    \"Mean Square for Rows (MSR)\": msr,\n",
    "    \"Mean Square for Columns (MSC)\": msc,\n",
    "    \"Mean Square for Error (MSE)\": mse,\n",
    "    \"F-ratio for Rows\": f_row,\n",
    "    \"F-ratio for Columns\": f_col,\n",
    "    \"P-value for Rows\": p_row,\n",
    "    \"P-value for Columns\": p_col\n",
    "}\n"
   ]
  },
  {
   "cell_type": "markdown",
   "metadata": {},
   "source": [
    "# Answer 39"
   ]
  },
  {
   "cell_type": "code",
   "execution_count": 2,
   "metadata": {},
   "outputs": [
    {
     "name": "stdout",
     "output_type": "stream",
     "text": [
      " * Serving Flask app \"__main__\" (lazy loading)\n",
      " * Environment: production\n",
      "   WARNING: Do not use the development server in a production environment.\n",
      "   Use a production WSGI server instead.\n",
      " * Debug mode: on\n"
     ]
    },
    {
     "name": "stderr",
     "output_type": "stream",
     "text": [
      " * Restarting with stat\n"
     ]
    },
    {
     "ename": "SystemExit",
     "evalue": "1",
     "output_type": "error",
     "traceback": [
      "An exception has occurred, use %tb to see the full traceback.\n",
      "\u001b[1;31mSystemExit\u001b[0m\u001b[1;31m:\u001b[0m 1\n"
     ]
    },
    {
     "name": "stderr",
     "output_type": "stream",
     "text": [
      "C:\\Users\\lenovo\\Anaconda3\\lib\\site-packages\\IPython\\core\\interactiveshell.py:3304: UserWarning: To exit: use 'exit', 'quit', or Ctrl-D.\n",
      "  warn(\"To exit: use 'exit', 'quit', or Ctrl-D.\", stacklevel=1)\n"
     ]
    }
   ],
   "source": [
    "from flask import Flask\n",
    "\n",
    "app = Flask(__name__)\n",
    "\n",
    "@app.route('/')\n",
    "def hello_world():\n",
    "    return 'Hello, World!'\n",
    "\n",
    "if __name__ == '__main__':\n",
    "    app.run(debug=True)\n"
   ]
  },
  {
   "cell_type": "markdown",
   "metadata": {},
   "source": [
    "# Answer 40"
   ]
  },
  {
   "cell_type": "code",
   "execution_count": null,
   "metadata": {},
   "outputs": [],
   "source": [
    "from flask import Flask, render_template, request\n",
    "\n",
    "app = Flask(__name__)\n",
    "\n",
    "@app.route('/', methods=['GET', 'POST'])\n",
    "def index():\n",
    "    if request.method == 'POST':\n",
    "        name = request.form['name']\n",
    "        email = request.form['email']\n",
    "        # Process the form data here, e.g., save to a database\n",
    "        return f\"Hello, {name}! Your email is {email}\"\n",
    "    else:\n",
    "        return render_template('form.html')\n",
    "\n",
    "if __name__ == '__main__':\n",
    "    app.run(debug=True)\n"
   ]
  },
  {
   "cell_type": "code",
   "execution_count": null,
   "metadata": {},
   "outputs": [],
   "source": [
    "''''Explanation\n",
    "1. Import necessary modules: Import Flask, render_template, and request from the Flask library.\n",
    "2. Create a Flask app: Create a Flask application instance.\n",
    "3. Define a route: Define a route that handles both GET and POST requests using the methods parameter.\n",
    "4. Handle POST requests:\n",
    "Check if the request method is POST.\n",
    "Access form data using request.form['name'] and request.form['email'].\n",
    "Process the form data (e.g., save to a database).\n",
    "Return a response with the submitted data.\n",
    "5. Handle GET requests:\n",
    "If the request method is GET, render the form template (form.html).\n",
    "6. Run the app: Start the Flask development server.'''"
   ]
  },
  {
   "cell_type": "markdown",
   "metadata": {},
   "source": [
    "# Answer 41"
   ]
  },
  {
   "cell_type": "code",
   "execution_count": null,
   "metadata": {},
   "outputs": [],
   "source": [
    "from flask import Flask\n",
    "\n",
    "app = Flask(__name__)\n",
    "\n",
    "@app.route('/hello/<name>')\n",
    "def hello(name):\n",
    "    return f\"Hello, {name}!\"\n",
    "\n",
    "if __name__ == '__main__':\n",
    "    app.run(debug=True)\n"
   ]
  },
  {
   "cell_type": "markdown",
   "metadata": {},
   "source": [
    "# Answer 42"
   ]
  },
  {
   "cell_type": "code",
   "execution_count": null,
   "metadata": {},
   "outputs": [],
   "source": [
    "# 1. Install Required Libraries:\n",
    "pip install Flask Flask-Login Flask-WTF Flask-SQLAlchemy\n"
   ]
  },
  {
   "cell_type": "code",
   "execution_count": null,
   "metadata": {},
   "outputs": [],
   "source": [
    "# 2. Create Flask App and Database Configuration:\n",
    "from flask import Flask, render_template, redirect, url_for, flash\n",
    "from flask_login import LoginManager, UserMixin, login_user, login_required, logout_user, current_user\n",
    "from flask_sqlalchemy import SQLAlchemy\n",
    "from werkzeug.security import generate_password_hash, check_password_hash\n",
    "\n",
    "app = Flask(__name__)\n",
    "app.config['SECRET_KEY'] = 'your_secret_key'\n",
    "app.config['SQLALCHEMY_DATABASE_URI'] = 'sqlite:///users.db'\n",
    "\n",
    "db = SQLAlchemy(app)\n",
    "login_manager = LoginManager(app)\n",
    "\n"
   ]
  },
  {
   "cell_type": "code",
   "execution_count": null,
   "metadata": {},
   "outputs": [],
   "source": [
    "# 3. Define User Model:\n",
    "class User(UserMixin, db.Model):\n",
    "    id = db.Column(db.Integer, primary_key=True)\n",
    "    username = db.Column(db.String(80), unique=True, nullable=False)\n",
    "    email = db.Column(db.String(120), unique=True, nullable=False)\n",
    "    password_hash = db.Column(db.String(128))\n",
    "\n",
    "    def set_password(self, password):\n",
    "        self.password_hash = generate_password_hash(password)\n",
    "\n",
    "    def check_password(self, password):\n",
    "        return check_password_hash(self.password_hash, password)\n"
   ]
  },
  {
   "cell_type": "code",
   "execution_count": null,
   "metadata": {},
   "outputs": [],
   "source": [
    "# 4. Create Login and Registration Forms: Use Flask-WTF to create forms for login and registration.\n",
    "# 5. Implement Login and Registration Routes: Handle form submissions, create user accounts, and log in users.\n",
    "# 6. Protect Routes: Use the login_required decorator to protect routes that require authentication."
   ]
  },
  {
   "cell_type": "markdown",
   "metadata": {},
   "source": [
    "# Answer 43"
   ]
  },
  {
   "cell_type": "code",
   "execution_count": null,
   "metadata": {},
   "outputs": [],
   "source": [
    "# 1. Import Necessary Libraries\n",
    "from flask import Flask\n",
    "from flask_sqlalchemy import SQLAlchemy\n"
   ]
  },
  {
   "cell_type": "code",
   "execution_count": null,
   "metadata": {},
   "outputs": [],
   "source": [
    "# 2. Create Flask App Instance\n",
    "app = Flask(__name__)\n"
   ]
  },
  {
   "cell_type": "code",
   "execution_count": null,
   "metadata": {},
   "outputs": [],
   "source": [
    "# 3. Configure Database\n",
    "app.config['SQLALCHEMY_DATABASE_URI'] = 'sqlite:///your_database.db'\n",
    "app.config['SQLALCHEMY_TRACK_MODIFICATIONS'] = False  # Suppress warning\n",
    "\n",
    "db = SQLAlchemy(app)\n",
    "\n",
    "# SQLALCHEMY_DATABASE_URI: Specifies the database URI. Here, we're using SQLite.\n",
    "# SQLALCHEMY_TRACK_MODIFICATIONS: Disabling this suppresses a warning."
   ]
  },
  {
   "cell_type": "code",
   "execution_count": null,
   "metadata": {},
   "outputs": [],
   "source": [
    "# 4. Define Models\n",
    "\n",
    "```python\n",
    "class User(db.Model):\n",
    "    id = db.Column(db.Integer, primary_key=True)\n",
    "    username = db.Column(db.String(80), unique=True, nullable=False)\n",
    "    email = db.Column(db.String(120), unique=True, nullable=False)   \n",
    "\n",
    "```\n",
    "* Defines a User model with columns for id, username, and email.\n",
    "* Inherits from `db.Model` to connect it to the database.\n",
    "\n",
    "### 5. Create Database Tables\n",
    "```python\n",
    "with app.app_context():\n",
    "    db.create_all()\n",
    "```\n",
    "\n",
    "### 6. Perform CRUD Operations\n",
    "* Use SQLAlchemy's ORM methods to perform create, read, update, and delete operations on database records.\n",
    "```python\n",
    "user = User(username='john_doe', email='[email address removed]')\n",
    "db.session.add(user)\n",
    "db.session.commit()\n",
    "```\n",
    "\n",
    "### Example Usage\n",
    "```python\n",
    "@app.route('/')\n",
    "def index():\n",
    "    users = User.query.all()  # Query all users\n",
    "    return render_template('index.html', users=users)\n",
    "```\n",
    "\n",
    "**Key Points:**\n",
    "* Replace `your_database.db` with your desired database file name.\n",
    "* You can define more complex models with relationships between tables.\n",
    "* SQLAlchemy provides many features for querying and manipulating data.\n",
    "* Consider using an ORM-specific query language like SQLAlchemy's Core for advanced queries.\n",
    "\n",
    "By following these steps, you can effectively connect your Flask app to a SQLite database and perform database operations.\n",
    " \n",
    "**Would you like to see a more complete example with CRUD operations or explore other database options like PostgreSQL or MySQL?** "
   ]
  },
  {
   "cell_type": "markdown",
   "metadata": {},
   "source": [
    "# Answer 44"
   ]
  },
  {
   "cell_type": "code",
   "execution_count": null,
   "metadata": {},
   "outputs": [],
   "source": [
    "from flask import Flask, jsonify\n",
    "\n",
    "app = Flask(__name__)\n",
    "\n",
    "@app.route('/users')\n",
    "def get_users():\n",
    "    users = [\n",
    "        {'id': 1, 'name': 'John Doe', 'email': 'johndoe@example.com'},\n",
    "        {'id': 2, 'name': 'Jane Smith', 'email': 'janesmith@example.com'}\n",
    "    ]\n",
    "    return jsonify(users)\n",
    "\n",
    "if __name__ == '__main__':\n",
    "    app.run(debug=True)\n"
   ]
  },
  {
   "cell_type": "code",
   "execution_count": null,
   "metadata": {},
   "outputs": [],
   "source": [
    "# Explanation:\n",
    "# 1. Import necessary libraries: Imports Flask for creating the web application and jsonify for converting Python objects to JSON.\n",
    "# 2. Create Flask app: Creates a Flask application instance.\n",
    "# 3. Define a route: Defines a route /users that will handle GET requests.\n",
    "# 4. Return JSON data: The get_users function returns a list of dictionaries, which is automatically converted to JSON format by the jsonify function."
   ]
  },
  {
   "cell_type": "markdown",
   "metadata": {},
   "source": [
    "# Answer 45"
   ]
  },
  {
   "cell_type": "code",
   "execution_count": null,
   "metadata": {},
   "outputs": [],
   "source": [
    "from flask import Flask, render_template, redirect, url_for\n",
    "from flask_wtf import FlaskForm\n",
    "from wtforms import StringField, SubmitField\n",
    "from wtforms.validators import DataRequired\n",
    "\n",
    "app = Flask(__name__)\n",
    "app.config['SECRET_KEY'] = 'your_secret_key'  # Replace with a strong secret key\n",
    "\n",
    "class NameForm(FlaskForm):\n",
    "    name = StringField('Name', validators=[DataRequired()])\n",
    "    submit = SubmitField('Submit')\n",
    "\n",
    "@app.route('/', methods=['GET', 'POST'])\n",
    "def index():\n",
    "    form = NameForm()\n",
    "    if form.validate_on_submit():\n",
    "        # Handle form submission\n",
    "        name = form.name.data\n",
    "        # Do something with the name\n",
    "        return f'Hello, {name}!'\n",
    "    return render_template('index.html', form=form)\n",
    "\n",
    "if __name__ == '__main__':\n",
    "    app.run(debug=True)\n"
   ]
  },
  {
   "cell_type": "code",
   "execution_count": null,
   "metadata": {},
   "outputs": [],
   "source": [
    "# Explanation:\n",
    "\n",
    "# 1. Import necessary libraries: Import Flask, Flask-WTF, and required form fields from WTForms.\n",
    "# 2. Create Flask app: Create a Flask application instance and set a secret key for CSRF protection.\n",
    "# 3. Define a form class: Create a class NameForm that inherits from FlaskForm. Define fields using WTForms field classes (e.g., StringField).\n",
    "# 4. Create a route: Define a route that handles both GET and POST requests.\n",
    "# 5. Handle form submission: If the form is submitted and valid, access form data using form.name.data and process it.\n",
    "# 6. Render the form: Render the index.html template, passing the form instance as a context variable."
   ]
  },
  {
   "cell_type": "markdown",
   "metadata": {},
   "source": [
    "# Answer 46"
   ]
  },
  {
   "cell_type": "code",
   "execution_count": null,
   "metadata": {},
   "outputs": [],
   "source": [
    "from flask import Flask, render_template, request, redirect, url_for\n",
    "import os\n",
    "\n",
    "app = Flask(__name__)\n",
    "app.config['UPLOAD_FOLDER'] = 'uploads'  # Create a folder to store uploaded files\n",
    "\n",
    "@app.route('/', methods=['GET', 'POST'])\n",
    "def upload_file():\n",
    "    if request.method == 'POST':\n",
    "        file = request.files['file']\n",
    "        if file and allowed_file(file.filename):\n",
    "            filename = file.filename\n",
    "            file.save(os.path.join(app.config['UPLOAD_FOLDER'], filename))\n",
    "            return redirect(url_for('upload_file'))\n",
    "    return render_template('upload.html')\n",
    "\n",
    "def allowed_file(filename):\n",
    "    ALLOWED_EXTENSIONS = {'png', 'jpg', 'jpeg', 'gif'}\n",
    "    return '.' in filename and filename.rsplit('.', 1)[1].lower() in ALLOWED_EXTENSIONS\n",
    "\n",
    "if __name__ == '__main__':\n",
    "    app.run(debug=True)\n",
    "```\n",
    "\n",
    "### Explanation:\n",
    "1. **Import necessary libraries:** Imports `Flask`, `render_template`, `request`, `redirect`, and `url_for` from Flask.\n",
    "2. **Create Flask app:** Creates a Flask application instance.\n",
    "3. **Configure upload folder:** Sets the `UPLOAD_FOLDER` configuration to store uploaded files.\n",
    "4. **Define a route:** Defines a route that handles both GET and POST requests.\n",
    "5. **Handle POST requests:**\n",
    "   * Checks if the request method is POST.\n",
    "   * Accesses the uploaded file using `request.files['file']`.\n",
    "   * Checks if the file exists and has an allowed extension.\n",
    "   * Saves the file to the `UPLOAD_FOLDER` with its original filename.\n",
    "   * Redirects to the upload page to prevent form resubmission.\n",
    "6. **Allow file extensions:** Defines a function `allowed_file` to check if the file has an allowed extension.\n",
    "7. **Render the upload form:** Renders the `upload.html` template.\n",
    "\n",
    "### HTML Form:\n",
    "```html\n",
    "<!DOCTYPE html>\n",
    "<html>\n",
    "<head>\n",
    "    <title>Upload File</title>\n",
    "</head>\n",
    "<body>\n",
    "    <h1>Upload File</h1>\n",
    "    <form method=\"POST\" enctype=\"multipart/form-data\">\n",
    "        <input type=\"file\" name=\"file\">\n",
    "        <input type=\"submit\" value=\"Upload\">\n",
    "    </form>\n",
    "</body>\n",
    "</html>\n",
    "```\n",
    "\n",
    "**Important considerations:**\n",
    "* Security: Always validate file types and sizes to prevent malicious uploads.\n",
    "* Error handling: Implement error handling for cases like file upload failures, invalid file types, or directory issues.\n",
    "* File organization: Consider organizing uploaded files based on users or other criteria.\n",
    "* File storage: For large files, explore cloud storage options or database storage.\n",
    "\n"
   ]
  },
  {
   "cell_type": "markdown",
   "metadata": {},
   "source": [
    "# Answer 47"
   ]
  },
  {
   "cell_type": "code",
   "execution_count": null,
   "metadata": {},
   "outputs": [],
   "source": [
    "# A Flask blueprint is a way to organize a group of views and other components into a separate module. This is especially useful for larger applications where you want to modularize your code.\n",
    "# Steps to Create a Blueprint\n",
    "# 1. Import Blueprint:\n",
    "from flask import Blueprint\n"
   ]
  },
  {
   "cell_type": "code",
   "execution_count": null,
   "metadata": {},
   "outputs": [],
   "source": [
    "# 2. Create a Blueprint Instance:\n",
    "auth_blueprint = Blueprint('auth', __name__)\n"
   ]
  },
  {
   "cell_type": "code",
   "execution_count": null,
   "metadata": {},
   "outputs": [],
   "source": [
    "# 3. Define Routes:\n",
    "@auth_blueprint.route('/login')\n",
    "def login():\n",
    "    # Login logic\n",
    "    return 'Login page'\n"
   ]
  },
  {
   "cell_type": "code",
   "execution_count": null,
   "metadata": {},
   "outputs": [],
   "source": [
    "# 4. Register Blueprint with App:\n",
    "from flask import Flask\n",
    "\n",
    "app = Flask(__name__)\n",
    "app.register_blueprint(auth_blueprint, url_prefix='/auth')\n"
   ]
  },
  {
   "cell_type": "code",
   "execution_count": null,
   "metadata": {},
   "outputs": [],
   "source": [
    "# 5. Example Structure\n",
    "project/\n",
    "  app.py\n",
    "  auth/\n",
    "    __init__.py\n",
    "    views.py"
   ]
  },
  {
   "cell_type": "code",
   "execution_count": null,
   "metadata": {},
   "outputs": [],
   "source": [
    "# 6. app.py:\n",
    "from flask import Flask\n",
    "from auth import auth_blueprint\n",
    "\n",
    "app = Flask(__name__)\n",
    "app.register_blueprint(auth_blueprint, url_prefix='/auth')\n",
    "\n",
    "if __name__ == '__main__':\n",
    "    app.run(debug=True)\n"
   ]
  },
  {
   "cell_type": "code",
   "execution_count": null,
   "metadata": {},
   "outputs": [],
   "source": [
    "# 7. auth/init.py:\n",
    "from flask import Blueprint\n",
    "\n",
    "auth_blueprint = Blueprint('auth', __name__)\n",
    "\n",
    "from . import views\n"
   ]
  },
  {
   "cell_type": "code",
   "execution_count": null,
   "metadata": {},
   "outputs": [],
   "source": [
    "# 8. auth/views.py:\n",
    "from flask import Blueprint\n",
    "\n",
    "auth_blueprint = Blueprint('auth', __name__)\n",
    "\n",
    "@auth_blueprint.route('/login')\n",
    "def login():\n",
    "    return 'Login page'\n"
   ]
  },
  {
   "cell_type": "markdown",
   "metadata": {},
   "source": [
    "# Answer 48"
   ]
  },
  {
   "cell_type": "code",
   "execution_count": null,
   "metadata": {},
   "outputs": [],
   "source": [
    "# Deployment Steps\n",
    "# 1. Create a Virtual Environment:\n",
    "python3 -m venv venv\n",
    "source venv/bin/activate\n"
   ]
  },
  {
   "cell_type": "code",
   "execution_count": null,
   "metadata": {},
   "outputs": [],
   "source": [
    "# 2. Install Dependencies:\n",
    "pip install Flask gunicorn nginx\n"
   ]
  },
  {
   "cell_type": "code",
   "execution_count": null,
   "metadata": {},
   "outputs": [],
   "source": [
    "# 3. Create a WSGI File: A WSGI file is a Python script that defines a WSGI application callable.\n",
    "from your_app import app\n",
    "\n",
    "if __name__ == '__main__':\n",
    "    app.run(debug=True)\n"
   ]
  },
  {
   "cell_type": "code",
   "execution_count": null,
   "metadata": {},
   "outputs": [],
   "source": [
    "# 4. Configure Gunicorn: Create a Gunicorn configuration file (e.g., gunicorn.conf.py):\n",
    "import multiprocessing\n",
    "\n",
    "bind = 'unix:/tmp/myproject.sock'\n",
    "workers = multiprocessing.cpu_count() * 2 + 1\n"
   ]
  },
  {
   "cell_type": "code",
   "execution_count": null,
   "metadata": {},
   "outputs": [],
   "source": [
    "# 5. Configure Nginx: Create an Nginx configuration file (e.g., /etc/nginx/sites-available/your_project) with the following content:\n",
    "server {\n",
    "    listen 80;\n",
    "    server_name your_domain.com;\n",
    "\n",
    "    location / {\n",
    "        proxy_pass http://unix:/tmp/myproject.sock;\n",
    "        proxy_set_header Host $host;\n",
    "        proxy_set_header X-Real-IP $remote_addr;\n",
    "        proxy_set_header X-Forwarded-For $proxy_add_x_forwarded_for;\n",
    "    }\n",
    "}"
   ]
  },
  {
   "cell_type": "code",
   "execution_count": null,
   "metadata": {},
   "outputs": [],
   "source": [
    "# Enable the configuration:\n",
    "sudo ln -s /etc/nginx/sites-available/your_project /etc/nginx/sites-enabled/\n"
   ]
  },
  {
   "cell_type": "code",
   "execution_count": null,
   "metadata": {},
   "outputs": [],
   "source": [
    "# 6. Start Gunicorn and Nginx:\n",
    "gunicorn --config gunicorn.conf.py your_app:app\n",
    "sudo systemctl restart nginx\n"
   ]
  },
  {
   "cell_type": "markdown",
   "metadata": {},
   "source": [
    "# Answer 49"
   ]
  },
  {
   "cell_type": "code",
   "execution_count": null,
   "metadata": {},
   "outputs": [],
   "source": [
    "# 1. Project Setup\n",
    "# Create a virtual environment:\n",
    "python -m venv venv\n",
    "source venv/bin/activate\n",
    "# Install required packages:\n",
    "pip install Flask Flask-PyMongo Flask-WTF Flask-Login"
   ]
  },
  {
   "cell_type": "code",
   "execution_count": null,
   "metadata": {},
   "outputs": [],
   "source": [
    "# 2. Flask App and MongoDB Configuration\n",
    "from flask import Flask, render_template, redirect, url_for, flash, request\n",
    "from flask_pymongo import PyMongo\n",
    "from flask_wtf import FlaskForm\n",
    "from wtforms import StringField, PasswordField, SubmitField\n",
    "from wtforms.validators import DataRequired, Email, EqualTo\n",
    "from flask_login import LoginManager, UserMixin, login_user, login_required, logout_user, current_user\n",
    "\n",
    "app = Flask(__name__)\n",
    "app.config['SECRET_KEY'] = 'your_secret_key'\n",
    "app.config['MONGO_DBNAME'] = 'your_database_name'\n",
    "app.config['MONGO_URI'] = 'mongodb://localhost:27017/your_database_name'\n",
    "\n",
    "mongo = PyMongo(app)\n",
    "db = mongo.db.users  # Access the 'users' collection\n",
    "\n",
    "login_manager = LoginManager(app)\n",
    "login_manager.login_view = 'login'\n",
    "\n",
    "class User(UserMixin):\n",
    "    pass\n",
    "\n",
    "@login_manager.user_loader\n",
    "def load_user(user_id):\n",
    "    user = db.find_one({'_id': ObjectId(user_id)})\n",
    "    if user:\n",
    "        return User()\n",
    "    return None\n"
   ]
  },
  {
   "cell_type": "code",
   "execution_count": null,
   "metadata": {},
   "outputs": [],
   "source": [
    "# 3. User Model (Implicit)\n",
    "# We are using MongoDB for user storage, so we do not need a separate User model class.\n"
   ]
  },
  {
   "cell_type": "code",
   "execution_count": null,
   "metadata": {},
   "outputs": [],
   "source": [
    "# 4. Create Forms\n",
    "class RegistrationForm(FlaskForm):\n",
    "    username = StringField('Username', validators=[DataRequired()])\n",
    "    email = StringField('Email', validators=[DataRequired(), Email()])\n",
    "    password = PasswordField('Password', validators=[DataRequired()])\n",
    "    password2 = PasswordField('Confirm Password', validators=[DataRequired(), EqualTo('password')])\n",
    "    submit = SubmitField('Register')\n",
    "\n",
    "class LoginForm(FlaskForm):\n",
    "    username = StringField('Username', validators=[DataRequired()])\n",
    "    password = PasswordField('Password', validators=[DataRequired()])\n",
    "    submit = SubmitField('Login')\n"
   ]
  },
  {
   "cell_type": "code",
   "execution_count": null,
   "metadata": {},
   "outputs": [],
   "source": [
    "# 5. Create Routes\n",
    "@app.route('/register', methods=['GET', 'POST'])\n",
    "def register():\n",
    "    # ... registration logic ...\n",
    "\n",
    "@app.route('/login', methods=['GET', 'POST'])\n",
    "def login():\n",
    "    # ... login logic ...\n",
    "\n",
    "@app.route('/logout')\n",
    "@login_required\n",
    "def logout():\n",
    "    # ... logout logic ...\n",
    "\n",
    "@app.route('/')\n",
    "@login_required\n",
    "def home():\n",
    "    return 'Hello, Geeks!'\n"
   ]
  },
  {
   "cell_type": "markdown",
   "metadata": {},
   "source": [
    "# Answer 50"
   ]
  },
  {
   "cell_type": "code",
   "execution_count": null,
   "metadata": {},
   "outputs": [],
   "source": [
    "# What is the difference between Series & Dataframes ?\n",
    "# Series\n",
    "# 1. A Series is a one-dimensional labeled array capable of holding any data type (integers, floats, strings, objects, etc.).   \n",
    "# 2. It is similar to a NumPy array but with a labeled index.   \n",
    "# 3. Think of it as a single column in a spreadsheet. \n",
    "\n",
    "import pandas as pd\n",
    "\n",
    "data = {'a': 1, 'b': 2, 'c': 3}\n",
    "s = pd.Series(data)\n",
    "print(s)\n",
    "\n"
   ]
  },
  {
   "cell_type": "code",
   "execution_count": null,
   "metadata": {},
   "outputs": [],
   "source": [
    "# DataFrame\n",
    "# 1. A DataFrame is a two-dimensional labeled data structure with columns that can hold different data types.   \n",
    "# 2. It is similar to a spreadsheet or a SQL table.   \n",
    "# 3. Each column in a DataFrame is essentially a Series.   \n",
    "\n",
    "import pandas as pd\n",
    "\n",
    "data = {'column1': [1, 2, 3], 'column2': ['a', 'b', 'c']}\n",
    "df = pd.DataFrame(data)\n",
    "print(df)\n",
    "\n"
   ]
  },
  {
   "cell_type": "code",
   "execution_count": null,
   "metadata": {},
   "outputs": [],
   "source": [
    "# 1. Create the Database and Table:\n",
    "\n",
    "# Connect to MySQL:\n",
    "import mysql.connector\n",
    "\n",
    "mydb = mysql.connector.connect(\n",
    "    host=\"your_host\",\n",
    "    user=\"your_user\",\n",
    "    password=\"your_password\",\n",
    "    database=\"your_database\"\n",
    ")\n",
    "\n",
    "mycursor = mydb.cursor()\n",
    "\n",
    "# Create the Database:\n",
    "mycursor.execute(\"CREATE DATABASE Travel_Planner\")\n",
    "\n",
    "# Use the Database:\n",
    "mycursor.execute(\"USE Travel_Planner\")\n",
    "\n",
    "# Create the Table:\n",
    "mycursor.execute(\"\"\"\n",
    "    CREATE TABLE bookings (\n",
    "        user_id INT,\n",
    "        flight_id INT,\n",
    "        hotel_id INT,\n",
    "        activity_id INT,\n",
    "        booking_date DATE\n",
    "    )\n",
    "    \"\"\")\n",
    "\n",
    "mydb.commit()\n"
   ]
  },
  {
   "cell_type": "code",
   "execution_count": null,
   "metadata": {},
   "outputs": [],
   "source": [
    "# 2. Fill the Table with Dummy Data:\n",
    "sql = \"INSERT INTO bookings (user_id, flight_id, hotel_id, activity_id, booking_date) VALUES (%s, %s, %s, %s, %s)\"\n",
    "val = [(1, 101, 201, 301, '2023-11-24'),\n",
    "       (2, 102, 202, 302, '2023-12-01'),\n",
    "       # Add more rows as needed\n",
    "       ]\n",
    "\n",
    "mycursor.executemany(sql, val)\n",
    "\n",
    "mydb.commit()\n"
   ]
  },
  {
   "cell_type": "code",
   "execution_count": null,
   "metadata": {},
   "outputs": [],
   "source": [
    "# 3. Read the Table Content Using Pandas:\n",
    "import pandas as pd\n",
    "\n",
    "# Connect to the database\n",
    "mydb = mysql.connector.connect(\n",
    "    host=\"your_host\",\n",
    "    user=\"your_user\",\n",
    "    password=\"your_password\",\n",
    "    database=\"Travel_Planner\"\n",
    ")\n",
    "\n",
    "mycursor = mydb.cursor()\n",
    "\n",
    "# Execute the query to fetch data\n",
    "mycursor.execute(\"SELECT * FROM bookings\")\n",
    "\n",
    "# Fetch data into a pandas DataFrame\n",
    "df = pd.DataFrame(mycursor.fetchall(), columns=[\"user_id\", \"flight_id\", \"hotel_id\", \"activity_id\", \"booking_date\"])\n",
    "\n",
    "print(df)\n"
   ]
  },
  {
   "cell_type": "code",
   "execution_count": null,
   "metadata": {},
   "outputs": [],
   "source": [
    "# Difference between loc and iloc.\n",
    "# loc and iloc are two primary methods used for selecting data from Pandas DataFrames. The key distinction lies in how they index data:\n",
    "# loc\n",
    "# 1. Label-based indexing: Selects data based on row and column labels.\n",
    "# 2. Inclusive of both the start and end index.\n",
    "# 3. Can be used for selecting rows, columns, or a specific cell.\n",
    "\n",
    "# iloc\n",
    "# 1. Integer-based indexing: Selects data based on integer positions (starts from 0).\n",
    "# 2. Inclusive of the start index, exclusive of the end index.\n",
    "# 3. Primarily used for selecting rows and columns by their numerical position.\n",
    "\n",
    "# Example\n",
    "import pandas as pd\n",
    "\n",
    "data = {'Column1': [1, 2, 3], 'Column2': [4, 5, 6]}\n",
    "df = pd.DataFrame(data)\n",
    "\n",
    "# Using loc\n",
    "print(df.loc[0:1, 'Column1'])  # Selects rows 0 and 1, column 'Column1'\n",
    "\n",
    "# Using iloc\n",
    "print(df.iloc[0:2, 0])  # Selects rows 0 and 1, column at index 0\n"
   ]
  },
  {
   "cell_type": "code",
   "execution_count": null,
   "metadata": {},
   "outputs": [],
   "source": []
  }
 ],
 "metadata": {
  "kernelspec": {
   "display_name": "Python 3",
   "language": "python",
   "name": "python3"
  },
  "language_info": {
   "codemirror_mode": {
    "name": "ipython",
    "version": 3
   },
   "file_extension": ".py",
   "mimetype": "text/x-python",
   "name": "python",
   "nbconvert_exporter": "python",
   "pygments_lexer": "ipython3",
   "version": "3.7.3"
  }
 },
 "nbformat": 4,
 "nbformat_minor": 2
}
